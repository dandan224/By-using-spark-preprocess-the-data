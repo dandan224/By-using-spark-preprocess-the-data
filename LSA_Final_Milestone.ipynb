{
  "nbformat": 4,
  "nbformat_minor": 0,
  "metadata": {
    "accelerator": "TPU",
    "colab": {
      "name": "Revised version_LSA_Final_Milestone_Model_Megha & Rajasree.ipynb",
      "provenance": [],
      "collapsed_sections": []
    },
    "kernelspec": {
      "name": "python3",
      "display_name": "Python 3"
    },
    "language_info": {
      "codemirror_mode": {
        "name": "ipython",
        "version": 3
      },
      "file_extension": ".py",
      "mimetype": "text/x-python",
      "name": "python",
      "nbconvert_exporter": "python",
      "pygments_lexer": "ipython3",
      "version": "3.7.2"
    }
  },
  "cells": [
    {
      "cell_type": "markdown",
      "metadata": {
        "colab_type": "text",
        "id": "HL6Xd_O_gcfw"
      },
      "source": [
        "# **Part 1:** Data Preparation (Ching-min & Dandan)##\n",
        "\n",
        "Chosen Superclass: Small mammals and Medium-sized mammals."
      ]
    },
    {
      "cell_type": "code",
      "metadata": {
        "colab_type": "code",
        "id": "hdnwTbM43TU6",
        "outputId": "ccbc1d6e-d5cf-4b95-9fd3-cba548e6353c",
        "colab": {
          "base_uri": "https://localhost:8080/",
          "height": 385
        }
      },
      "source": [
        "!apt-get update\n",
        "!apt-get install openjdk-8-jdk-headless -qq > /dev/null\n",
        "!wget -q http://apache.osuosl.org/spark/spark-2.4.4/spark-2.4.4-bin-hadoop2.7.tgz\n",
        "!tar xf spark-2.4.4-bin-hadoop2.7.tgz\n",
        "!pip install -q findspark\n",
        "import os\n",
        "os.environ[\"JAVA_HOME\"] = \"/usr/lib/jvm/java-8-openjdk-amd64\"\n",
        "os.environ[\"SPARK_HOME\"] = \"/content/spark-2.4.4-bin-hadoop2.7\"\n"
      ],
      "execution_count": 0,
      "outputs": [
        {
          "output_type": "stream",
          "text": [
            "\r0% [Working]\r            \rGet:1 https://cloud.r-project.org/bin/linux/ubuntu bionic-cran35/ InRelease [3,626 B]\n",
            "\r0% [Waiting for headers] [Waiting for headers] [1 InRelease 0 B/3,626 B 0%] [Wa\r0% [Waiting for headers] [Waiting for headers] [Waiting for headers] [Waiting f\r                                                                               \rIgn:2 https://developer.download.nvidia.com/compute/cuda/repos/ubuntu1804/x86_64  InRelease\n",
            "\r0% [Waiting for headers] [Waiting for headers] [Waiting for headers] [Waiting f\r0% [1 InRelease gpgv 3,626 B] [Waiting for headers] [Waiting for headers] [Wait\r                                                                               \rHit:3 http://ppa.launchpad.net/graphics-drivers/ppa/ubuntu bionic InRelease\n",
            "\r0% [1 InRelease gpgv 3,626 B] [Waiting for headers] [Waiting for headers] [Wait\r                                                                               \rGet:4 http://security.ubuntu.com/ubuntu bionic-security InRelease [88.7 kB]\n",
            "\r0% [1 InRelease gpgv 3,626 B] [Waiting for headers] [4 InRelease 2,589 B/88.7 k\r                                                                               \rIgn:5 https://developer.download.nvidia.com/compute/machine-learning/repos/ubuntu1804/x86_64  InRelease\n",
            "\r0% [1 InRelease gpgv 3,626 B] [Waiting for headers] [4 InRelease 5,485 B/88.7 k\r                                                                               \rHit:6 http://archive.ubuntu.com/ubuntu bionic InRelease\n",
            "\r0% [1 InRelease gpgv 3,626 B] [Waiting for headers] [4 InRelease 8,381 B/88.7 k\r                                                                               \rHit:7 https://developer.download.nvidia.com/compute/cuda/repos/ubuntu1804/x86_64  Release\n",
            "\r0% [1 InRelease gpgv 3,626 B] [Waiting for headers] [4 InRelease 11.3 kB/88.7 k\r                                                                               \rHit:8 https://developer.download.nvidia.com/compute/machine-learning/repos/ubuntu1804/x86_64  Release\n",
            "\r0% [1 InRelease gpgv 3,626 B] [Waiting for headers] [4 InRelease 14.2 kB/88.7 k\r                                                                               \rGet:9 http://archive.ubuntu.com/ubuntu bionic-updates InRelease [88.7 kB]\n",
            "Get:10 http://ppa.launchpad.net/marutter/c2d4u3.5/ubuntu bionic InRelease [15.4 kB]\n",
            "Get:11 https://cloud.r-project.org/bin/linux/ubuntu bionic-cran35/ Packages [75.1 kB]\n",
            "Get:12 http://archive.ubuntu.com/ubuntu bionic-backports InRelease [74.6 kB]\n",
            "Get:15 http://ppa.launchpad.net/marutter/c2d4u3.5/ubuntu bionic/main Sources [1,742 kB]\n",
            "Get:16 http://security.ubuntu.com/ubuntu bionic-security/universe amd64 Packages [794 kB]\n",
            "Get:17 http://archive.ubuntu.com/ubuntu bionic-updates/restricted amd64 Packages [32.7 kB]\n",
            "Get:18 http://archive.ubuntu.com/ubuntu bionic-updates/main amd64 Packages [1,056 kB]\n",
            "Get:19 http://security.ubuntu.com/ubuntu bionic-security/main amd64 Packages [760 kB]\n",
            "Get:20 http://archive.ubuntu.com/ubuntu bionic-updates/universe amd64 Packages [1,322 kB]\n",
            "Get:21 http://ppa.launchpad.net/marutter/c2d4u3.5/ubuntu bionic/main amd64 Packages [840 kB]\n",
            "Get:22 http://archive.ubuntu.com/ubuntu bionic-updates/multiverse amd64 Packages [10.5 kB]\n",
            "Fetched 6,903 kB in 3s (2,084 kB/s)\n",
            "Reading package lists... Done\n"
          ],
          "name": "stdout"
        }
      ]
    },
    {
      "cell_type": "code",
      "metadata": {
        "colab_type": "code",
        "id": "SEJPMcI46ihs",
        "outputId": "98567681-e32b-4f18-d0fc-ac0d52f9d314",
        "colab": {
          "base_uri": "https://localhost:8080/",
          "height": 150
        }
      },
      "source": [
        "#1 Code to read csv file into colaboratory:\n",
        "!pip install -U -q PyDrive\n",
        "from pydrive.auth import GoogleAuth\n",
        "from pydrive.drive import GoogleDrive\n",
        "from google.colab import auth\n",
        "from oauth2client.client import GoogleCredentials\n",
        "\n",
        "# 1. Authenticate and create the PyDrive client.\n",
        "auth.authenticate_user()\n",
        "gauth = GoogleAuth()\n",
        "gauth.credentials = GoogleCredentials.get_application_default()\n",
        "drive = GoogleDrive(gauth)"
      ],
      "execution_count": 0,
      "outputs": [
        {
          "output_type": "stream",
          "text": [
            "WARNING:tensorflow:\n",
            "The TensorFlow contrib module will not be included in TensorFlow 2.0.\n",
            "For more information, please see:\n",
            "  * https://github.com/tensorflow/community/blob/master/rfcs/20180907-contrib-sunset.md\n",
            "  * https://github.com/tensorflow/addons\n",
            "  * https://github.com/tensorflow/io (for I/O related ops)\n",
            "If you depend on functionality not listed there, please file an issue.\n",
            "\n"
          ],
          "name": "stdout"
        }
      ]
    },
    {
      "cell_type": "code",
      "metadata": {
        "colab_type": "code",
        "id": "WlFD3gQwxc8p",
        "outputId": "9d58430e-b23c-456a-ecbc-218ded2f4773",
        "colab": {
          "base_uri": "https://localhost:8080/",
          "height": 50
        }
      },
      "source": [
        "# Import the necessary packages\n",
        "%%time\n",
        "import findspark\n",
        "findspark.init(os.environ[\"SPARK_HOME\"])# SPARK_HOME\n",
        "from pyspark.sql.types import Row\n",
        "from pyspark.ml.linalg import Vectors, DenseVector\n",
        "from pyspark.ml.feature import StringIndexer\n",
        "from pyspark.sql import SparkSession\n",
        "import numpy as np\n",
        "import json\n"
      ],
      "execution_count": 0,
      "outputs": [
        {
          "output_type": "stream",
          "text": [
            "CPU times: user 228 ms, sys: 26 ms, total: 254 ms\n",
            "Wall time: 258 ms\n"
          ],
          "name": "stdout"
        }
      ]
    },
    {
      "cell_type": "code",
      "metadata": {
        "id": "gk5XoXHYBnLs",
        "colab_type": "code",
        "outputId": "c57831c2-d9fa-4766-b6b6-dff59662c3ae",
        "colab": {
          "base_uri": "https://localhost:8080/",
          "height": 50
        }
      },
      "source": [
        "# Increase the memory limit/maximum memory configuration - https://datascience.stackexchange.com/questions/8549/how-do-i-set-get-heap-size-for-spark-via-python-notebook\n",
        "#spark = SparkSession.builder.master(\"local[*]\").getOrCreate()\n",
        "%%time\n",
        "Memory_limit = \"12g\"\n",
        "spark = SparkSession.builder.appName(\"Foo\").config(\"spark.executor.memory\", Memory_limit).config(\"spark.driver.memory\", Memory_limit).getOrCreate()\n",
        "#spark = SparkSession.builder.appName(\"App\").config(\"spark.executor.memory\", Memory_limit).config(\"spark.driver.memory\", Memory_limit)\\\n",
        "        #.config(\"spark.driver.maxResultSize\", '10G').config('spark.executor.cores', '2').config(\"spark.driver.cores\",\"4\").config(\"spark.num.executors\",\"4\").getOrCreate()\n",
        "\n",
        "\"\"\"https://www.edureka.co/community/5268/how-to-change-the-spark-session-configuration-in-pyspark\n",
        "config = pyspark.SparkConf().setAll([('spark.executor.memory', '12g'), ('spark.executor.cores', '3'), ('spark.cores.max', '3'), ('spark.driver.memory','12g')])\n",
        "sc.stop()\n",
        "sc = pyspark.SparkContext(conf=config)\"\"\"\n"
      ],
      "execution_count": 0,
      "outputs": [
        {
          "output_type": "stream",
          "text": [
            "CPU times: user 34.6 ms, sys: 13.8 ms, total: 48.3 ms\n",
            "Wall time: 5.78 s\n"
          ],
          "name": "stdout"
        }
      ]
    },
    {
      "cell_type": "markdown",
      "metadata": {
        "id": "ysIWVfeAlHiI",
        "colab_type": "text"
      },
      "source": [
        "## **Download data**"
      ]
    },
    {
      "cell_type": "code",
      "metadata": {
        "colab_type": "code",
        "id": "YQ8sTrmL6k3X",
        "outputId": "9a77fbe4-0de5-447c-fb7e-023d457385ab",
        "colab": {
          "base_uri": "https://localhost:8080/",
          "height": 50
        }
      },
      "source": [
        "#2. Get the file\n",
        "# Make sure you upload all your data files to your Google drive and change share->Advanced->change->anyone with the link can view\n",
        "%%time\n",
        "downloaded1 = drive.CreateFile({'id':'1YoyOoPty-a3i8oMStdheWrDTCKrcONG3'}) # replace the id with id of file you want to access\n",
        "downloaded1.GetContentFile('train')\n",
        "downloaded2 = drive.CreateFile({'id':'1Qe_Z5HGgdF2_c8XoypiCIGutK6wAvb8e'}) # replace the id with id of file you want to access\n",
        "downloaded2.GetContentFile('test')\n",
        "downloaded3 = drive.CreateFile({'id':'1eqHqAAOx0OuMhnpgTkBlvUPx9eGH0snZ'}) # replace the id with id of file you want to access\n",
        "downloaded3.GetContentFile('meta')"
      ],
      "execution_count": 0,
      "outputs": [
        {
          "output_type": "stream",
          "text": [
            "CPU times: user 395 ms, sys: 657 ms, total: 1.05 s\n",
            "Wall time: 5.38 s\n"
          ],
          "name": "stdout"
        }
      ]
    },
    {
      "cell_type": "code",
      "metadata": {
        "colab_type": "code",
        "id": "ii2o6kcu9mH_",
        "outputId": "ea7df1f0-b3e6-4995-9d09-61ecf184815a",
        "colab": {
          "base_uri": "https://localhost:8080/",
          "height": 104
        }
      },
      "source": [
        "# Unpickle the file\n",
        "%%time\n",
        "import pickle\n",
        "\n",
        "def unpickle(file):\n",
        "    with open(file, 'rb') as fo:\n",
        "        dic = pickle.load(fo, encoding='bytes')\n",
        "    return dic\n",
        "\n",
        "# Fetch the Train data\n",
        "datatrain = unpickle('train')\n",
        "\n",
        "# Fetch the test data\n",
        "datatest = unpickle('test')\n",
        "\n",
        "# Fetch the metadata\n",
        "datameta = unpickle(\"meta\")\n",
        "\n",
        "# Convert the data type from byte to utf-8\n",
        "fine_labels = [x.decode('utf-8')for x in datameta.get(b'fine_label_names')]\n",
        "print(fine_labels)\n",
        "coarse_labels = [x.decode('utf-8')for x in datameta.get(b'coarse_label_names')]\n",
        "print(coarse_labels)"
      ],
      "execution_count": 0,
      "outputs": [
        {
          "output_type": "stream",
          "text": [
            "['apple', 'aquarium_fish', 'baby', 'bear', 'beaver', 'bed', 'bee', 'beetle', 'bicycle', 'bottle', 'bowl', 'boy', 'bridge', 'bus', 'butterfly', 'camel', 'can', 'castle', 'caterpillar', 'cattle', 'chair', 'chimpanzee', 'clock', 'cloud', 'cockroach', 'couch', 'crab', 'crocodile', 'cup', 'dinosaur', 'dolphin', 'elephant', 'flatfish', 'forest', 'fox', 'girl', 'hamster', 'house', 'kangaroo', 'keyboard', 'lamp', 'lawn_mower', 'leopard', 'lion', 'lizard', 'lobster', 'man', 'maple_tree', 'motorcycle', 'mountain', 'mouse', 'mushroom', 'oak_tree', 'orange', 'orchid', 'otter', 'palm_tree', 'pear', 'pickup_truck', 'pine_tree', 'plain', 'plate', 'poppy', 'porcupine', 'possum', 'rabbit', 'raccoon', 'ray', 'road', 'rocket', 'rose', 'sea', 'seal', 'shark', 'shrew', 'skunk', 'skyscraper', 'snail', 'snake', 'spider', 'squirrel', 'streetcar', 'sunflower', 'sweet_pepper', 'table', 'tank', 'telephone', 'television', 'tiger', 'tractor', 'train', 'trout', 'tulip', 'turtle', 'wardrobe', 'whale', 'willow_tree', 'wolf', 'woman', 'worm']\n",
            "['aquatic_mammals', 'fish', 'flowers', 'food_containers', 'fruit_and_vegetables', 'household_electrical_devices', 'household_furniture', 'insects', 'large_carnivores', 'large_man-made_outdoor_things', 'large_natural_outdoor_scenes', 'large_omnivores_and_herbivores', 'medium_mammals', 'non-insect_invertebrates', 'people', 'reptiles', 'small_mammals', 'trees', 'vehicles_1', 'vehicles_2']\n",
            "CPU times: user 114 ms, sys: 334 ms, total: 448 ms\n",
            "Wall time: 448 ms\n"
          ],
          "name": "stdout"
        }
      ]
    },
    {
      "cell_type": "code",
      "metadata": {
        "colab_type": "code",
        "id": "ltKKR5WpX_78",
        "outputId": "342aee5e-428e-417e-c104-be0fb186ebc3",
        "colab": {
          "base_uri": "https://localhost:8080/",
          "height": 67
        }
      },
      "source": [
        "# Generate the train data RDD\n",
        "%%time\n",
        "cifar_train_RDD = spark.sparkContext.parallelize(list(zip( \\\n",
        "    [name.decode('utf-8') for name in datatrain.get(b'filenames')],\\\n",
        "    datatrain.get(b'fine_labels'), datatrain.get(b'coarse_labels'), \\\n",
        "    datatrain.get(b'data'))))\n",
        "print (cifar_train_RDD.count())\n",
        "cifar_train_RDD.map(lambda x: x[3]).take(1)"
      ],
      "execution_count": 0,
      "outputs": [
        {
          "output_type": "stream",
          "text": [
            "50000\n",
            "CPU times: user 595 ms, sys: 343 ms, total: 938 ms\n",
            "Wall time: 4.67 s\n"
          ],
          "name": "stdout"
        }
      ]
    },
    {
      "cell_type": "code",
      "metadata": {
        "colab_type": "code",
        "id": "XO9R-v_cc5zx",
        "outputId": "0daa296c-1657-41e0-9db0-89e2eaa23407",
        "colab": {
          "base_uri": "https://localhost:8080/",
          "height": 67
        }
      },
      "source": [
        "# Generate the test data RDD\n",
        "%%time\n",
        "cifar_test_RDD = spark.sparkContext.parallelize(list(zip( \\\n",
        "    [name.decode('utf-8') for name in datatest.get(b'filenames')],\\\n",
        "    datatest.get(b'fine_labels'), datatest.get(b'coarse_labels'), \\\n",
        "    datatest.get(b'data'))))\n",
        "print (cifar_test_RDD.count())"
      ],
      "execution_count": 0,
      "outputs": [
        {
          "output_type": "stream",
          "text": [
            "10000\n",
            "CPU times: user 122 ms, sys: 50.3 ms, total: 172 ms\n",
            "Wall time: 417 ms\n"
          ],
          "name": "stdout"
        }
      ]
    },
    {
      "cell_type": "markdown",
      "metadata": {
        "colab_type": "text",
        "id": "d-91jMOmg-qJ"
      },
      "source": [
        "## **Combine the training RDD and test RDD into one RDD**"
      ]
    },
    {
      "cell_type": "code",
      "metadata": {
        "colab_type": "code",
        "id": "YxSvTjPrdG7Y",
        "outputId": "13cafe62-3778-4764-8663-e5a72eee7897",
        "colab": {
          "base_uri": "https://localhost:8080/",
          "height": 67
        }
      },
      "source": [
        "# Combine the train RDD and test RDD into one RDD, may take a long while to run\n",
        "%%time\n",
        "combine_rdd = cifar_train_RDD.union(cifar_test_RDD)\n",
        "print (combine_rdd.count())"
      ],
      "execution_count": 0,
      "outputs": [
        {
          "output_type": "stream",
          "text": [
            "60000\n",
            "CPU times: user 6.87 ms, sys: 3.17 ms, total: 10 ms\n",
            "Wall time: 1.7 s\n"
          ],
          "name": "stdout"
        }
      ]
    },
    {
      "cell_type": "markdown",
      "metadata": {
        "id": "Im7owXF21HKs",
        "colab_type": "text"
      },
      "source": [
        "Seed is used to save the state of the random function in subsequent executions."
      ]
    },
    {
      "cell_type": "code",
      "metadata": {
        "colab_type": "code",
        "id": "45ZfJ5LBdOuQ",
        "outputId": "27de47ee-bd5e-483a-a5d3-c927a05def99",
        "colab": {
          "base_uri": "https://localhost:8080/",
          "height": 87
        }
      },
      "source": [
        "# Take a sample from the data\n",
        "%%time\n",
        "print (combine_rdd.takeSample(withReplacement=False, num=5, seed=123))"
      ],
      "execution_count": 0,
      "outputs": [
        {
          "output_type": "stream",
          "text": [
            "[('power_mower_s_000260.png', 41, 19, array([255, 242, 202, ..., 255, 252, 252], dtype=uint8)), ('bicycle_s_002728.png', 8, 18, array([0, 0, 0, ..., 4, 4, 6], dtype=uint8)), ('sunflower_s_000513.png', 82, 2, array([36, 43, 47, ..., 84, 90, 70], dtype=uint8)), ('poppy_s_001505.png', 62, 2, array([4, 4, 4, ..., 7, 7, 8], dtype=uint8)), ('rosebush_s_001692.png', 70, 2, array([23, 24, 26, ..., 66, 68, 68], dtype=uint8))]\n",
            "CPU times: user 17.2 ms, sys: 2.43 ms, total: 19.6 ms\n",
            "Wall time: 3.07 s\n"
          ],
          "name": "stdout"
        }
      ]
    },
    {
      "cell_type": "markdown",
      "metadata": {
        "id": "kFBV0HG2Jw1l",
        "colab_type": "text"
      },
      "source": [
        "Here, we convert the RDD into Dataframe and normalize the image data by dividing it with the largest pixel value, which is 255."
      ]
    },
    {
      "cell_type": "code",
      "metadata": {
        "colab_type": "code",
        "id": "PKAJXiCvYE2S",
        "outputId": "473620ae-d7dc-4f75-b54c-5081b6f9e668",
        "colab": {
          "base_uri": "https://localhost:8080/",
          "height": 67
        }
      },
      "source": [
        "# Convert the combined RDD into spark dataframe and normalize\n",
        "%%time\n",
        "combine_df = spark.createDataFrame(combine_rdd.map(lambda x: Row(filenames=x[0], fine_labels=int(x[1]), coarse_labels=int(x[2]), data=DenseVector(x[3])/255.0)) )\n",
        "print (combine_df.count())"
      ],
      "execution_count": 0,
      "outputs": [
        {
          "output_type": "stream",
          "text": [
            "60000\n",
            "CPU times: user 30.8 ms, sys: 5.91 ms, total: 36.7 ms\n",
            "Wall time: 1min 49s\n"
          ],
          "name": "stdout"
        }
      ]
    },
    {
      "cell_type": "code",
      "metadata": {
        "colab_type": "code",
        "id": "bsy82vM2ZUsr",
        "outputId": "41146f50-a5d9-4e69-a7b6-b68d9ccc9d2f",
        "colab": {
          "base_uri": "https://localhost:8080/",
          "height": 485
        }
      },
      "source": [
        "# Print the first 10 rows\n",
        "%%time\n",
        "combine_df.show()"
      ],
      "execution_count": 0,
      "outputs": [
        {
          "output_type": "stream",
          "text": [
            "+-------------+--------------------+--------------------+-----------+\n",
            "|coarse_labels|                data|           filenames|fine_labels|\n",
            "+-------------+--------------------+--------------------+-----------+\n",
            "|           11|[1.0,1.0,1.0,1.0,...|bos_taurus_s_0005...|         19|\n",
            "|           15|[1.0,0.9921568627...|stegosaurus_s_000...|         29|\n",
            "|            4|[0.98039215686274...|mcintosh_s_000643...|          0|\n",
            "|           14|[0.48627450980392...|altar_boy_s_00143...|         11|\n",
            "|            1|[0.16862745098039...|cichlid_s_000031.png|          1|\n",
            "|            5|[0.74509803921568...|  phone_s_002161.png|         86|\n",
            "|           18|[0.19607843137254...|car_train_s_00004...|         90|\n",
            "|            3|[0.69803921568627...| beaker_s_000604.png|         28|\n",
            "|           10|[0.47843137254901...|    fog_s_000397.png|         23|\n",
            "|           11|[1.0,1.0,1.0,1.0,...|rogue_elephant_s_...|         31|\n",
            "|            5|[0.32549019607843...|computer_keyboard...|         39|\n",
            "|           17|[0.99607843137254...|willow_tree_s_000...|         96|\n",
            "|            2|[0.89019607843137...|sunflower_s_00054...|         82|\n",
            "|            9|[0.99215686274509...| palace_s_000759.png|         17|\n",
            "|           10|[0.71764705882352...|adriatic_s_001782...|         71|\n",
            "|            5|[0.17254901960784...|computer_keyboard...|         39|\n",
            "|           18|[0.13725490196078...|   bike_s_000682.png|          8|\n",
            "|            8|[0.65490196078431...|wolf_pup_s_001323...|         97|\n",
            "|           16|[0.27843137254901...|squirrel_s_002467...|         80|\n",
            "|           10|[0.61960784313725...|    sea_s_000678.png|         71|\n",
            "+-------------+--------------------+--------------------+-----------+\n",
            "only showing top 20 rows\n",
            "\n",
            "CPU times: user 1.94 ms, sys: 756 µs, total: 2.7 ms\n",
            "Wall time: 663 ms\n"
          ],
          "name": "stdout"
        }
      ]
    },
    {
      "cell_type": "markdown",
      "metadata": {
        "colab_type": "text",
        "id": "zUY2mid3hXNa"
      },
      "source": [
        "## **Filter out the assigned superclasses**"
      ]
    },
    {
      "cell_type": "code",
      "metadata": {
        "colab_type": "code",
        "id": "l0TW5C4Kh0E5",
        "outputId": "f048293a-6ba1-4051-ee3e-137106d71163",
        "colab": {
          "base_uri": "https://localhost:8080/",
          "height": 84
        }
      },
      "source": [
        "# Get the index of ten classes of animals\n",
        "%%time\n",
        "#medium_sized_mammals_index = [ fine_labels.index(x) for x in ['fox', 'porcupine', 'possum', 'raccoon', 'skunk'] ]\n",
        "#small_mammals_index = [ fine_labels.index(x) for x in ['hamster', 'mouse', 'rabbit', 'shrew', 'squirrel'] ]\n",
        "\n",
        "medium_sized_mammals_index = [ coarse_labels.index(x) for x in ['medium_mammals'] ]\n",
        "small_mammals_index = [ coarse_labels.index(x) for x in ['small_mammals'] ]\n",
        "\n",
        "target_index = medium_sized_mammals_index + small_mammals_index\n",
        "print (medium_sized_mammals_index, small_mammals_index)\n",
        "print(target_index)"
      ],
      "execution_count": 0,
      "outputs": [
        {
          "output_type": "stream",
          "text": [
            "[12] [16]\n",
            "[12, 16]\n",
            "CPU times: user 2.03 ms, sys: 1e+03 ns, total: 2.03 ms\n",
            "Wall time: 5.54 ms\n"
          ],
          "name": "stdout"
        }
      ]
    },
    {
      "cell_type": "code",
      "metadata": {
        "id": "kchPPtEcKQhN",
        "colab_type": "code",
        "outputId": "618b9fe6-a138-4b53-8caf-346f3fe72efc",
        "colab": {
          "base_uri": "https://localhost:8080/",
          "height": 84
        }
      },
      "source": [
        "# Verify the label number\n",
        "%%time\n",
        "for ind in target_index:\n",
        "  print (\"Index\", ind, \"is for coarse label:\", coarse_labels[ind])"
      ],
      "execution_count": 0,
      "outputs": [
        {
          "output_type": "stream",
          "text": [
            "Index 12 is for coarse label: medium_mammals\n",
            "Index 16 is for coarse label: small_mammals\n",
            "CPU times: user 2.01 ms, sys: 0 ns, total: 2.01 ms\n",
            "Wall time: 3.58 ms\n"
          ],
          "name": "stdout"
        }
      ]
    },
    {
      "cell_type": "code",
      "metadata": {
        "colab_type": "code",
        "id": "6GLN3JDjdy4v",
        "outputId": "e34e6a11-70d9-43da-de58-dab33d93c4d2",
        "colab": {
          "base_uri": "https://localhost:8080/",
          "height": 67
        }
      },
      "source": [
        "# Filter out the assigned ten fine classes, reorder columns and check the count\n",
        "%%time\n",
        "from pyspark.sql.functions import col\n",
        "\n",
        "target_df = combine_df.filter(col('coarse_labels').isin(target_index))                 # Can do combine_df.filter((combine_df['coarse_labels']==12) | (combine_df['coarse_labels']==16))\n",
        "target_df = target_df.select(\"data\",\"coarse_labels\",\"fine_labels\",\"filenames\")\n",
        "\n",
        "print (\"Count:\", target_df.count())"
      ],
      "execution_count": 0,
      "outputs": [
        {
          "output_type": "stream",
          "text": [
            "Count: 6000\n",
            "CPU times: user 15.3 ms, sys: 9.46 ms, total: 24.8 ms\n",
            "Wall time: 1min 44s\n"
          ],
          "name": "stdout"
        }
      ]
    },
    {
      "cell_type": "code",
      "metadata": {
        "id": "NWoVZ6SgnWMd",
        "colab_type": "code",
        "outputId": "852f057f-07ab-4932-c7ee-c84ab24737c6",
        "colab": {
          "base_uri": "https://localhost:8080/",
          "height": 50
        }
      },
      "source": [
        "# Import packages\n",
        "%%time\n",
        "from pyspark.sql.functions import udf, rand\n",
        "from pyspark.sql.types import StringType\n",
        "from pyspark.sql.types import FloatType\n",
        "from pyspark.mllib.linalg import VectorUDT"
      ],
      "execution_count": 0,
      "outputs": [
        {
          "output_type": "stream",
          "text": [
            "CPU times: user 9.05 ms, sys: 2.62 ms, total: 11.7 ms\n",
            "Wall time: 12.1 ms\n"
          ],
          "name": "stdout"
        }
      ]
    },
    {
      "cell_type": "code",
      "metadata": {
        "id": "EgvZVWpJk4wW",
        "colab_type": "code",
        "outputId": "c13c30bb-a44c-47d5-d3ea-60bf94a11910",
        "colab": {
          "base_uri": "https://localhost:8080/",
          "height": 50
        }
      },
      "source": [
        "# Add two columns fine label as fine and coarse label as coarse\n",
        "%%time\n",
        "target_name_df = target_df.withColumn(\"coarse\", udf(lambda coarse_label: coarse_labels[coarse_label], StringType())(target_df['coarse_labels'])) \\\n",
        "    .withColumn(\"fine\", udf(lambda fine_label: fine_labels[fine_label], StringType())(target_df['fine_labels']))"
      ],
      "execution_count": 0,
      "outputs": [
        {
          "output_type": "stream",
          "text": [
            "CPU times: user 12.3 ms, sys: 43 µs, total: 12.4 ms\n",
            "Wall time: 64.3 ms\n"
          ],
          "name": "stdout"
        }
      ]
    },
    {
      "cell_type": "markdown",
      "metadata": {
        "colab_type": "text",
        "id": "q2HF-rP3h0Xg"
      },
      "source": [
        "# **Visualize and validate the data**"
      ]
    },
    {
      "cell_type": "code",
      "metadata": {
        "colab_type": "code",
        "id": "Rm-FY4j9V4Sb",
        "outputId": "c5d139ec-25bc-468c-9a84-08e22ffc2fb3",
        "colab": {
          "base_uri": "https://localhost:8080/",
          "height": 67
        }
      },
      "source": [
        "# Generate sample data randomly\n",
        "%%time\n",
        "fractions = dict()\n",
        "for fine in ['fox', 'porcupine', 'possum', 'raccoon', 'skunk', 'hamster', 'mouse', 'rabbit', 'shrew', 'squirrel']:\n",
        "  fractions[fine] = 0.02                              \n",
        "\n",
        "sample_df = target_name_df.sampleBy('fine', fractions)\n",
        "print(sample_df.count())"
      ],
      "execution_count": 0,
      "outputs": [
        {
          "output_type": "stream",
          "text": [
            "118\n",
            "CPU times: user 18.8 ms, sys: 5.08 ms, total: 23.9 ms\n",
            "Wall time: 1min 45s\n"
          ],
          "name": "stdout"
        }
      ]
    },
    {
      "cell_type": "code",
      "metadata": {
        "colab_type": "code",
        "id": "3INaLUjrV3GY",
        "outputId": "f66973b6-527a-43ef-c7c1-fba25692eae2",
        "colab": {
          "base_uri": "https://localhost:8080/",
          "height": 50
        }
      },
      "source": [
        "# Generate the samples list\n",
        "%%time\n",
        "samples = sample_df.select('coarse', 'fine', 'data').orderBy('coarse', 'fine').rdd.collect()"
      ],
      "execution_count": 0,
      "outputs": [
        {
          "output_type": "stream",
          "text": [
            "CPU times: user 90 ms, sys: 10.8 ms, total: 101 ms\n",
            "Wall time: 3min 31s\n"
          ],
          "name": "stdout"
        }
      ]
    },
    {
      "cell_type": "code",
      "metadata": {
        "colab_type": "code",
        "id": "4rWgrIeSaDqi",
        "outputId": "2cd903f6-0810-40e3-ac6d-3bb3c0e13f17",
        "colab": {
          "base_uri": "https://localhost:8080/",
          "height": 1000
        }
      },
      "source": [
        "# Visualize the data\n",
        "%%time\n",
        "import matplotlib.pyplot as plt\n",
        "\n",
        "# initialize the dict, the key is the ten fine class, the count is 0\n",
        "counts = dict.fromkeys(['fox', 'porcupine', 'possum', 'raccoon', 'skunk', 'hamster', 'mouse', 'rabbit', 'shrew', 'squirrel'], 0) \n",
        "\n",
        "fig = plt.figure(figsize=(15, 15))\n",
        "index = 1\n",
        "for sample in samples:\n",
        "  counts[sample.fine] += 1\n",
        "  if counts[sample.fine] > 4:\n",
        "    continue\n",
        "  \n",
        "  img = sample.data.reshape(3,32,32).transpose([1, 2, 0])\n",
        "  fig.add_subplot(9, 4, index, xticks=[], yticks=[])\n",
        "  plt.imshow(img)\n",
        "  plt.title(\"{}\\n- {}\".format(sample.coarse, sample.fine))\n",
        "  index += 1\n",
        "  if index > 36:\n",
        "    break\n",
        "\n",
        "fig.set_tight_layout(True)"
      ],
      "execution_count": 0,
      "outputs": [
        {
          "output_type": "stream",
          "text": [
            "CPU times: user 654 ms, sys: 15.8 ms, total: 669 ms\n",
            "Wall time: 684 ms\n"
          ],
          "name": "stdout"
        },
        {
          "output_type": "display_data",
          "data": {
            "image/png": "[encoded data removed]",
            "text/plain": [
              "<Figure size 1080x1080 with 36 Axes>"
            ]
          },
          "metadata": {
            "tags": []
          }
        }
      ]
    },
    {
      "cell_type": "markdown",
      "metadata": {
        "colab_type": "text",
        "id": "8BXKaLF_eNyJ"
      },
      "source": [
        "# **Prediction on one testing subclass images from each of the two superclasses**\n",
        "\n",
        "* Fine label aka subclass refers to an organism, such as Rabbit, fox, mouse etc.\n",
        "* Course label aka superclass refers to their categorization, such as small and medium mammals.\n",
        "* Each pair has one subclass each from small & medium mammals.\n",
        "\n",
        "4 pairs comprising of 4 subclasses each from small and large mammals are set as training set, and the missing excluded pair (1 subclass each from small and large mammals) is set as testing set. As there are 5 subclasses each in small and large mammals, we will generate a list of 25 pairs with different combinations, each with 4 pairs as train set and 1 pair as test set.\n",
        "\n",
        "##**Part 1:** Data Preparation (Ching-min & Dandan)"
      ]
    },
    {
      "cell_type": "code",
      "metadata": {
        "colab_type": "code",
        "id": "cV9otd9TeNPD",
        "outputId": "621d5062-9b65-4954-aff0-6b5388f43ff2",
        "colab": {
          "base_uri": "https://localhost:8080/",
          "height": 50
        }
      },
      "source": [
        "# Create a new datafrane with new columns\n",
        "%%time\n",
        "target_name_df2 = target_df.withColumn(\"coarse\", udf(lambda coarse_label: coarse_labels[coarse_label],\\\n",
        "                                                    StringType())(target_df['coarse_labels'])) \\\n",
        "                          .withColumn(\"fine\", udf(lambda fine_label: fine_labels[fine_label], \\\n",
        "                                                  StringType())(target_df['fine_labels']))"
      ],
      "execution_count": 0,
      "outputs": [
        {
          "output_type": "stream",
          "text": [
            "CPU times: user 11.8 ms, sys: 4.81 ms, total: 16.6 ms\n",
            "Wall time: 87.2 ms\n"
          ],
          "name": "stdout"
        }
      ]
    },
    {
      "cell_type": "code",
      "metadata": {
        "id": "1cmWTlxlgQMR",
        "colab_type": "code",
        "outputId": "f577f1d9-ff88-4eed-cb78-5edfd3c407b9",
        "colab": {
          "base_uri": "https://localhost:8080/",
          "height": 50
        }
      },
      "source": [
        "# Change the coarse label of training set into a binary label, and check the distinct binary labels\n",
        "%%time\n",
        "stringindexer = StringIndexer(inputCol='coarse_labels', outputCol='binary_index')\n",
        "target_name_df2 = stringindexer.fit(target_name_df2).transform(target_name_df2)\n",
        "target_name_df2.select('binary_index').distinct().collect()"
      ],
      "execution_count": 0,
      "outputs": [
        {
          "output_type": "stream",
          "text": [
            "CPU times: user 81 ms, sys: 15.4 ms, total: 96.4 ms\n",
            "Wall time: 3min 32s\n"
          ],
          "name": "stdout"
        }
      ]
    },
    {
      "cell_type": "code",
      "metadata": {
        "id": "c-Y5TbDbhAZG",
        "colab_type": "code",
        "outputId": "4a479827-9bce-4057-934f-b2be79f2f232",
        "colab": {
          "base_uri": "https://localhost:8080/",
          "height": 50
        }
      },
      "source": [
        "# Rename data as features and re-order columns \n",
        "%%time\n",
        "target_name_df2 = target_name_df2.withColumnRenamed(\"data\",\"features\").select(\"features\",\"binary_index\", \"coarse_labels\",\"coarse\",\"fine_labels\",\"fine\")"
      ],
      "execution_count": 0,
      "outputs": [
        {
          "output_type": "stream",
          "text": [
            "CPU times: user 6.77 ms, sys: 0 ns, total: 6.77 ms\n",
            "Wall time: 63.2 ms\n"
          ],
          "name": "stdout"
        }
      ]
    },
    {
      "cell_type": "code",
      "metadata": {
        "id": "QMYUNl5nhUTu",
        "colab_type": "code",
        "outputId": "3d4e4de6-6c56-4999-f266-a53ba1e00c14",
        "colab": {
          "base_uri": "https://localhost:8080/",
          "height": 150
        }
      },
      "source": [
        "# Verify the data type\n",
        "%%time\n",
        "target_name_df2.dtypes"
      ],
      "execution_count": 0,
      "outputs": [
        {
          "output_type": "stream",
          "text": [
            "CPU times: user 2.29 ms, sys: 0 ns, total: 2.29 ms\n",
            "Wall time: 16 ms\n"
          ],
          "name": "stdout"
        },
        {
          "output_type": "execute_result",
          "data": {
            "text/plain": [
              "[('features', 'vector'),\n",
              " ('binary_index', 'double'),\n",
              " ('coarse_labels', 'bigint'),\n",
              " ('coarse', 'string'),\n",
              " ('fine_labels', 'bigint'),\n",
              " ('fine', 'string')]"
            ]
          },
          "metadata": {
            "tags": []
          },
          "execution_count": 27
        }
      ]
    },
    {
      "cell_type": "code",
      "metadata": {
        "colab_type": "code",
        "id": "ZEIcepUgde6E",
        "outputId": "433467b1-741a-453a-811c-5e96c7f6e3a0",
        "colab": {
          "base_uri": "https://localhost:8080/",
          "height": 150
        }
      },
      "source": [
        "# Check for null values in each column\n",
        "%%time\n",
        "for c in target_name_df2.columns: \n",
        "  print (\"Column\",c, \"- no.of null values:\", target_name_df2.where(col(c).isNull()).count()) "
      ],
      "execution_count": 0,
      "outputs": [
        {
          "output_type": "stream",
          "text": [
            "Column features - no.of null values: 0\n",
            "Column binary_index - no.of null values: 0\n",
            "Column coarse_labels - no.of null values: 0\n",
            "Column coarse - no.of null values: 0\n",
            "Column fine_labels - no.of null values: 0\n",
            "Column fine - no.of null values: 0\n",
            "CPU times: user 80.6 ms, sys: 19.9 ms, total: 100 ms\n",
            "Wall time: 8min 37s\n"
          ],
          "name": "stdout"
        }
      ]
    },
    {
      "cell_type": "code",
      "metadata": {
        "id": "9l-DlxkJh_Ga",
        "colab_type": "code",
        "outputId": "1ff52e6e-a461-4656-c39e-f230b5ccf70d",
        "colab": {
          "base_uri": "https://localhost:8080/",
          "height": 87
        }
      },
      "source": [
        "# Check the distinct labels\n",
        "%%time\n",
        "print(\"Distinct labels in the training set -\", target_name_df2.select('coarse_labels','binary_index','coarse','fine_labels','fine').distinct().collect())"
      ],
      "execution_count": 0,
      "outputs": [
        {
          "output_type": "stream",
          "text": [
            "Distinct labels in the training set - [Row(coarse_labels=16, binary_index=0.0, coarse='small_mammals', fine_labels=74, fine='shrew'), Row(coarse_labels=16, binary_index=0.0, coarse='small_mammals', fine_labels=80, fine='squirrel'), Row(coarse_labels=16, binary_index=0.0, coarse='small_mammals', fine_labels=50, fine='mouse'), Row(coarse_labels=12, binary_index=1.0, coarse='medium_mammals', fine_labels=63, fine='porcupine'), Row(coarse_labels=12, binary_index=1.0, coarse='medium_mammals', fine_labels=66, fine='raccoon'), Row(coarse_labels=12, binary_index=1.0, coarse='medium_mammals', fine_labels=64, fine='possum'), Row(coarse_labels=12, binary_index=1.0, coarse='medium_mammals', fine_labels=34, fine='fox'), Row(coarse_labels=16, binary_index=0.0, coarse='small_mammals', fine_labels=36, fine='hamster'), Row(coarse_labels=16, binary_index=0.0, coarse='small_mammals', fine_labels=65, fine='rabbit'), Row(coarse_labels=12, binary_index=1.0, coarse='medium_mammals', fine_labels=75, fine='skunk')]\n",
            "CPU times: user 44.3 ms, sys: 9.83 ms, total: 54.1 ms\n",
            "Wall time: 1min 45s\n"
          ],
          "name": "stdout"
        }
      ]
    },
    {
      "cell_type": "markdown",
      "metadata": {
        "id": "5JjOrKpthZFm",
        "colab_type": "text"
      },
      "source": [
        "We are skipping the check for null values as it was performed earlier. It is also very time-consuming."
      ]
    },
    {
      "cell_type": "code",
      "metadata": {
        "id": "eZwGOqRRMvPo",
        "colab_type": "code",
        "outputId": "bf3688d4-7552-4fe0-e94b-cb5c21555413",
        "colab": {
          "base_uri": "https://localhost:8080/",
          "height": 50
        }
      },
      "source": [
        "# Store different missing pair of rdd\n",
        "# Each list of rdd will have 25 different sets\n",
        "%%time\n",
        "train_list=[]\n",
        "test_list=[]\n",
        "test_label_list=spark.sparkContext.parallelize(())"
      ],
      "execution_count": 0,
      "outputs": [
        {
          "output_type": "stream",
          "text": [
            "CPU times: user 1.76 ms, sys: 0 ns, total: 1.76 ms\n",
            "Wall time: 11.6 ms\n"
          ],
          "name": "stdout"
        }
      ]
    },
    {
      "cell_type": "code",
      "metadata": {
        "id": "N7FAxm8kMzJI",
        "colab_type": "code",
        "outputId": "b144509d-6017-4930-c0ad-6a5d50c12a8a",
        "colab": {
          "base_uri": "https://localhost:8080/",
          "height": 50
        }
      },
      "source": [
        "# Fetch the fine labels of small and medium mammals\n",
        "%%time\n",
        "medium_sized_mammals_ind = [fine_labels.index(x) for x in ['fox', 'porcupine', 'possum', 'raccoon', 'skunk'] ]\n",
        "small_mammals_ind = [fine_labels.index(x) for x in ['hamster', 'mouse', 'rabbit', 'shrew', 'squirrel'] ]"
      ],
      "execution_count": 0,
      "outputs": [
        {
          "output_type": "stream",
          "text": [
            "CPU times: user 24 µs, sys: 8 µs, total: 32 µs\n",
            "Wall time: 38.1 µs\n"
          ],
          "name": "stdout"
        }
      ]
    },
    {
      "cell_type": "code",
      "metadata": {
        "id": "7xf3y2etM1Dd",
        "colab_type": "code",
        "outputId": "b2ab2555-97d5-4748-8f3e-36cac3027959",
        "colab": {
          "base_uri": "https://localhost:8080/",
          "height": 50
        }
      },
      "source": [
        "# Create a loop to generate 25 pairs of train set with 4 pairs each of small and large mammals, and remaining 2 pairs as test set.\n",
        "%%time\n",
        "for a in medium_sized_mammals_ind:\n",
        "    for b in small_mammals_ind :\n",
        "        # test\n",
        "        test_filter=target_name_df2.filter((target_name_df2.fine_labels==a) | (target_name_df2.fine_labels==b)) # extract the rows of missimg pair\n",
        "        \n",
        "        \n",
        "        # train\n",
        "        train_filter=target_name_df2.filter((target_name_df2.fine_labels!=a) & (target_name_df2.fine_labels!=b)) # extract the rows of else\n",
        "        \n",
        "        \n",
        "        # add to list\n",
        "        train_list.append(train_filter)\n",
        "        test_list.append(test_filter)\n",
        "        \n",
        "        # test list\n",
        "        temp=spark.sparkContext.parallelize([(fine_labels[a],fine_labels[b])])\n",
        "        test_label_list=test_label_list.union(temp)"
      ],
      "execution_count": 0,
      "outputs": [
        {
          "output_type": "stream",
          "text": [
            "CPU times: user 105 ms, sys: 27.5 ms, total: 133 ms\n",
            "Wall time: 1.24 s\n"
          ],
          "name": "stdout"
        }
      ]
    },
    {
      "cell_type": "code",
      "metadata": {
        "id": "7Bj6fWr5fC_3",
        "colab_type": "code",
        "outputId": "ba7ed879-2b87-4982-8b0d-bc875a56e542",
        "colab": {
          "base_uri": "https://localhost:8080/",
          "height": 53
        }
      },
      "source": [
        "\"\"\"# Let us view the values stored\n",
        "%%time\n",
        "for i in range(0,25):\n",
        "  print(\"Trial\",i, \"->\\t Testing set:\")\n",
        "  print(test_list[i].groupby('fine','coarse').count().show())\n",
        "  print (\"\\t\\t Training set:\")\n",
        "  print(train_list[i].groupby('fine','coarse').count().show(),\"\\n\")\n",
        "\n",
        "  # Can do orderBy but avoiding the same as it already takes 1.5 hours.\"\"\""
      ],
      "execution_count": 0,
      "outputs": [
        {
          "output_type": "execute_result",
          "data": {
            "text/plain": [
              "'# Let us view the values stored\\n%%time\\nfor i in range(0,25):\\n  print(\"Trial\",i, \"->\\t Testing set:\")\\n  print(test_list[i].groupby(\\'fine\\',\\'coarse\\').count().show())\\n  print (\"\\t\\t Training set:\")\\n  print(train_list[i].groupby(\\'fine\\',\\'coarse\\').count().show(),\"\\n\")\\n\\n  # Can do orderBy but avoiding the same as it already takes 1.5 hours.'"
            ]
          },
          "metadata": {
            "tags": []
          },
          "execution_count": 33
        }
      ]
    },
    {
      "cell_type": "markdown",
      "metadata": {
        "id": "01BvRYkYM51z",
        "colab_type": "text"
      },
      "source": [
        "## Study the training data"
      ]
    },
    {
      "cell_type": "code",
      "metadata": {
        "id": "Yv647Z9AM3hP",
        "colab_type": "code",
        "outputId": "d8ef2f1b-09a4-4f95-a40d-ecfa8ffef129",
        "colab": {
          "base_uri": "https://localhost:8080/",
          "height": 67
        }
      },
      "source": [
        "# Check the length of training list, which gives the number of training sets\n",
        "%%time\n",
        "len(train_list)"
      ],
      "execution_count": 0,
      "outputs": [
        {
          "output_type": "stream",
          "text": [
            "CPU times: user 4 µs, sys: 1e+03 ns, total: 5 µs\n",
            "Wall time: 8.82 µs\n"
          ],
          "name": "stdout"
        },
        {
          "output_type": "execute_result",
          "data": {
            "text/plain": [
              "25"
            ]
          },
          "metadata": {
            "tags": []
          },
          "execution_count": 34
        }
      ]
    },
    {
      "cell_type": "code",
      "metadata": {
        "id": "dZjlUYzxM9oR",
        "colab_type": "code",
        "outputId": "50ba2d92-2fad-4fec-e7ff-4055985b5b0e",
        "colab": {
          "base_uri": "https://localhost:8080/",
          "height": 67
        }
      },
      "source": [
        "# Check the type of file\n",
        "%%time\n",
        "type(train_list[0])"
      ],
      "execution_count": 0,
      "outputs": [
        {
          "output_type": "stream",
          "text": [
            "CPU times: user 5 µs, sys: 2 µs, total: 7 µs\n",
            "Wall time: 10.7 µs\n"
          ],
          "name": "stdout"
        },
        {
          "output_type": "execute_result",
          "data": {
            "text/plain": [
              "pyspark.sql.dataframe.DataFrame"
            ]
          },
          "metadata": {
            "tags": []
          },
          "execution_count": 35
        }
      ]
    },
    {
      "cell_type": "code",
      "metadata": {
        "id": "7FXWnSl0M9Ux",
        "colab_type": "code",
        "outputId": "e167c698-b702-47ae-d793-b4fa22752691",
        "colab": {
          "base_uri": "https://localhost:8080/",
          "height": 234
        }
      },
      "source": [
        "# First 5 rows of train_list[0]\n",
        "%%time\n",
        "train_list[0].show(5)"
      ],
      "execution_count": 0,
      "outputs": [
        {
          "output_type": "stream",
          "text": [
            "+--------------------+------------+-------------+--------------+-----------+--------+\n",
            "|            features|binary_index|coarse_labels|        coarse|fine_labels|    fine|\n",
            "+--------------------+------------+-------------+--------------+-----------+--------+\n",
            "|[0.27843137254901...|         0.0|           16| small_mammals|         80|squirrel|\n",
            "|[0.61176470588235...|         0.0|           16| small_mammals|         74|   shrew|\n",
            "|[0.96078431372549...|         1.0|           12|medium_mammals|         64|  possum|\n",
            "|[1.0,1.0,1.0,1.0,...|         1.0|           12|medium_mammals|         64|  possum|\n",
            "|[0.11764705882352...|         0.0|           16| small_mammals|         65|  rabbit|\n",
            "+--------------------+------------+-------------+--------------+-----------+--------+\n",
            "only showing top 5 rows\n",
            "\n",
            "CPU times: user 8.27 ms, sys: 953 µs, total: 9.23 ms\n",
            "Wall time: 42.7 s\n"
          ],
          "name": "stdout"
        }
      ]
    },
    {
      "cell_type": "code",
      "metadata": {
        "id": "eoRTNCGwM9jj",
        "colab_type": "code",
        "outputId": "d8c7ff7e-3d45-45df-b2a5-0155f8b792b9",
        "colab": {
          "base_uri": "https://localhost:8080/",
          "height": 184
        }
      },
      "source": [
        "# Verify the Schema\n",
        "%%time\n",
        "train_list[0].printSchema()"
      ],
      "execution_count": 0,
      "outputs": [
        {
          "output_type": "stream",
          "text": [
            "root\n",
            " |-- features: vector (nullable = true)\n",
            " |-- binary_index: double (nullable = false)\n",
            " |-- coarse_labels: long (nullable = true)\n",
            " |-- coarse: string (nullable = true)\n",
            " |-- fine_labels: long (nullable = true)\n",
            " |-- fine: string (nullable = true)\n",
            "\n",
            "CPU times: user 525 µs, sys: 909 µs, total: 1.43 ms\n",
            "Wall time: 2.83 ms\n"
          ],
          "name": "stdout"
        }
      ]
    },
    {
      "cell_type": "code",
      "metadata": {
        "id": "oaexNDEmM9c5",
        "colab_type": "code",
        "outputId": "30c77084-8382-47bd-c508-4cc3da2801de",
        "colab": {
          "base_uri": "https://localhost:8080/",
          "height": 217
        }
      },
      "source": [
        "# Check the statistical features\n",
        "%%time\n",
        "train_list[0].describe().show()"
      ],
      "execution_count": 0,
      "outputs": [
        {
          "output_type": "stream",
          "text": [
            "+-------+------------------+------------------+--------------+-----------------+--------+\n",
            "|summary|      binary_index|     coarse_labels|        coarse|      fine_labels|    fine|\n",
            "+-------+------------------+------------------+--------------+-----------------+--------+\n",
            "|  count|              4800|              4800|          4800|             4800|    4800|\n",
            "|   mean|               0.5|              14.0|          null|           67.125|    null|\n",
            "| stddev|0.5000520914727675|2.0002083658910697|          null|8.667469414257729|    null|\n",
            "|    min|               0.0|                12|medium_mammals|               50|   mouse|\n",
            "|    max|               1.0|                16| small_mammals|               80|squirrel|\n",
            "+-------+------------------+------------------+--------------+-----------------+--------+\n",
            "\n",
            "CPU times: user 15.7 ms, sys: 5.26 ms, total: 21 ms\n",
            "Wall time: 1min 44s\n"
          ],
          "name": "stdout"
        }
      ]
    },
    {
      "cell_type": "code",
      "metadata": {
        "id": "R7OVsUGFNHqv",
        "colab_type": "code",
        "outputId": "d5f57a89-7b9d-49e4-dd9a-6d04209164ef",
        "colab": {
          "base_uri": "https://localhost:8080/",
          "height": 268
        }
      },
      "source": [
        "# Check for distinct labels\n",
        "%%time\n",
        "train_list[0].select('fine_labels','fine','coarse').distinct().show()"
      ],
      "execution_count": 0,
      "outputs": [
        {
          "output_type": "stream",
          "text": [
            "+-----------+---------+--------------+\n",
            "|fine_labels|     fine|        coarse|\n",
            "+-----------+---------+--------------+\n",
            "|         63|porcupine|medium_mammals|\n",
            "|         50|    mouse| small_mammals|\n",
            "|         66|  raccoon|medium_mammals|\n",
            "|         75|    skunk|medium_mammals|\n",
            "|         65|   rabbit| small_mammals|\n",
            "|         64|   possum|medium_mammals|\n",
            "|         74|    shrew| small_mammals|\n",
            "|         80| squirrel| small_mammals|\n",
            "+-----------+---------+--------------+\n",
            "\n",
            "CPU times: user 36.2 ms, sys: 11.8 ms, total: 48 ms\n",
            "Wall time: 1min 45s\n"
          ],
          "name": "stdout"
        }
      ]
    },
    {
      "cell_type": "markdown",
      "metadata": {
        "id": "A_Kgn5CLNL3l",
        "colab_type": "text"
      },
      "source": [
        "## Study the testing data"
      ]
    },
    {
      "cell_type": "code",
      "metadata": {
        "id": "S1G4U3JDtHTd",
        "colab_type": "code",
        "outputId": "89ffc4ea-a4a3-4792-fa33-24e62f1a41db",
        "colab": {
          "base_uri": "https://localhost:8080/",
          "height": 33
        }
      },
      "source": [
        "# Check the length of the test file\n",
        "len(test_list)"
      ],
      "execution_count": 0,
      "outputs": [
        {
          "output_type": "execute_result",
          "data": {
            "text/plain": [
              "25"
            ]
          },
          "metadata": {
            "tags": []
          },
          "execution_count": 57
        }
      ]
    },
    {
      "cell_type": "code",
      "metadata": {
        "id": "ZLdJsHIqNSGi",
        "colab_type": "code",
        "outputId": "340bb6c5-8d22-4294-eca6-0a0c004962bf",
        "colab": {
          "base_uri": "https://localhost:8080/",
          "height": 67
        }
      },
      "source": [
        "# Check the type of file\n",
        "%%time\n",
        "type(test_list[0])"
      ],
      "execution_count": 0,
      "outputs": [
        {
          "output_type": "stream",
          "text": [
            "CPU times: user 5 µs, sys: 2 µs, total: 7 µs\n",
            "Wall time: 10 µs\n"
          ],
          "name": "stdout"
        },
        {
          "output_type": "execute_result",
          "data": {
            "text/plain": [
              "pyspark.sql.dataframe.DataFrame"
            ]
          },
          "metadata": {
            "tags": []
          },
          "execution_count": 41
        }
      ]
    },
    {
      "cell_type": "code",
      "metadata": {
        "id": "P7BkTWv4NMQe",
        "colab_type": "code",
        "outputId": "a304a598-8504-4300-a8a5-dd12e63ce027",
        "colab": {
          "base_uri": "https://localhost:8080/",
          "height": 234
        }
      },
      "source": [
        "# First 5 rows of test_list[0]\n",
        "%%time\n",
        "test_list[0].show(5)"
      ],
      "execution_count": 0,
      "outputs": [
        {
          "output_type": "stream",
          "text": [
            "+--------------------+------------+-------------+--------------+-----------+-------+\n",
            "|            features|binary_index|coarse_labels|        coarse|fine_labels|   fine|\n",
            "+--------------------+------------+-------------+--------------+-----------+-------+\n",
            "|[0.23529411764705...|         0.0|           16| small_mammals|         36|hamster|\n",
            "|[0.14117647058823...|         0.0|           16| small_mammals|         36|hamster|\n",
            "|[0.48235294117647...|         1.0|           12|medium_mammals|         34|    fox|\n",
            "|[0.71764705882352...|         0.0|           16| small_mammals|         36|hamster|\n",
            "|[0.78431372549019...|         1.0|           12|medium_mammals|         34|    fox|\n",
            "+--------------------+------------+-------------+--------------+-----------+-------+\n",
            "only showing top 5 rows\n",
            "\n",
            "CPU times: user 6.51 ms, sys: 1.96 ms, total: 8.47 ms\n",
            "Wall time: 42.4 s\n"
          ],
          "name": "stdout"
        }
      ]
    },
    {
      "cell_type": "code",
      "metadata": {
        "id": "UfWsW-xONSTz",
        "colab_type": "code",
        "outputId": "50da663c-f351-435a-e3c9-b2a4d03b44dd",
        "colab": {
          "base_uri": "https://localhost:8080/",
          "height": 184
        }
      },
      "source": [
        "# Verify the Schema\n",
        "%%time\n",
        "test_list[0].printSchema()"
      ],
      "execution_count": 0,
      "outputs": [
        {
          "output_type": "stream",
          "text": [
            "root\n",
            " |-- features: vector (nullable = true)\n",
            " |-- binary_index: double (nullable = false)\n",
            " |-- coarse_labels: long (nullable = true)\n",
            " |-- coarse: string (nullable = true)\n",
            " |-- fine_labels: long (nullable = true)\n",
            " |-- fine: string (nullable = true)\n",
            "\n",
            "CPU times: user 1.28 ms, sys: 812 µs, total: 2.09 ms\n",
            "Wall time: 4.44 ms\n"
          ],
          "name": "stdout"
        }
      ]
    },
    {
      "cell_type": "code",
      "metadata": {
        "id": "4NZcCJLiNSfy",
        "colab_type": "code",
        "outputId": "f6764fe0-c757-4771-a56b-0b9d7a7bd593",
        "colab": {
          "base_uri": "https://localhost:8080/",
          "height": 217
        }
      },
      "source": [
        "# Check the statistical features\n",
        "%%time\n",
        "test_list[0].describe().show()"
      ],
      "execution_count": 0,
      "outputs": [
        {
          "output_type": "stream",
          "text": [
            "+-------+------------------+------------------+--------------+------------------+-------+\n",
            "|summary|      binary_index|     coarse_labels|        coarse|       fine_labels|   fine|\n",
            "+-------+------------------+------------------+--------------+------------------+-------+\n",
            "|  count|              1200|              1200|          1200|              1200|   1200|\n",
            "|   mean|               0.5|              14.0|          null|              35.0|   null|\n",
            "| stddev|0.5002084636321551|2.0008338545286213|          null|1.0004169272643104|   null|\n",
            "|    min|               0.0|                12|medium_mammals|                34|    fox|\n",
            "|    max|               1.0|                16| small_mammals|                36|hamster|\n",
            "+-------+------------------+------------------+--------------+------------------+-------+\n",
            "\n",
            "CPU times: user 16.3 ms, sys: 4.13 ms, total: 20.4 ms\n",
            "Wall time: 1min 44s\n"
          ],
          "name": "stdout"
        }
      ]
    },
    {
      "cell_type": "code",
      "metadata": {
        "id": "zRbh-QUqNSQ2",
        "colab_type": "code",
        "outputId": "a1038d32-3454-42f1-93dd-8c84213b09c0",
        "colab": {
          "base_uri": "https://localhost:8080/",
          "height": 167
        }
      },
      "source": [
        "# Check for distinct labels\n",
        "%%time\n",
        "test_list[0].select('fine_labels','fine','coarse').distinct().show()"
      ],
      "execution_count": 0,
      "outputs": [
        {
          "output_type": "stream",
          "text": [
            "+-----------+-------+--------------+\n",
            "|fine_labels|   fine|        coarse|\n",
            "+-----------+-------+--------------+\n",
            "|         36|hamster| small_mammals|\n",
            "|         34|    fox|medium_mammals|\n",
            "+-----------+-------+--------------+\n",
            "\n",
            "CPU times: user 37 ms, sys: 6.66 ms, total: 43.6 ms\n",
            "Wall time: 1min 44s\n"
          ],
          "name": "stdout"
        }
      ]
    },
    {
      "cell_type": "code",
      "metadata": {
        "id": "9aq2tp9NNa8Z",
        "colab_type": "code",
        "outputId": "85f71297-8200-497a-85c6-c55954edf717",
        "colab": {
          "base_uri": "https://localhost:8080/",
          "height": 468
        }
      },
      "source": [
        "# Print the missing pair list\n",
        "%%time\n",
        "test_label_list.collect() "
      ],
      "execution_count": 0,
      "outputs": [
        {
          "output_type": "stream",
          "text": [
            "CPU times: user 3.59 ms, sys: 870 µs, total: 4.46 ms\n",
            "Wall time: 117 ms\n"
          ],
          "name": "stdout"
        },
        {
          "output_type": "execute_result",
          "data": {
            "text/plain": [
              "[('fox', 'hamster'),\n",
              " ('fox', 'mouse'),\n",
              " ('fox', 'rabbit'),\n",
              " ('fox', 'shrew'),\n",
              " ('fox', 'squirrel'),\n",
              " ('porcupine', 'hamster'),\n",
              " ('porcupine', 'mouse'),\n",
              " ('porcupine', 'rabbit'),\n",
              " ('porcupine', 'shrew'),\n",
              " ('porcupine', 'squirrel'),\n",
              " ('possum', 'hamster'),\n",
              " ('possum', 'mouse'),\n",
              " ('possum', 'rabbit'),\n",
              " ('possum', 'shrew'),\n",
              " ('possum', 'squirrel'),\n",
              " ('raccoon', 'hamster'),\n",
              " ('raccoon', 'mouse'),\n",
              " ('raccoon', 'rabbit'),\n",
              " ('raccoon', 'shrew'),\n",
              " ('raccoon', 'squirrel'),\n",
              " ('skunk', 'hamster'),\n",
              " ('skunk', 'mouse'),\n",
              " ('skunk', 'rabbit'),\n",
              " ('skunk', 'shrew'),\n",
              " ('skunk', 'squirrel')]"
            ]
          },
          "metadata": {
            "tags": []
          },
          "execution_count": 46
        }
      ]
    },
    {
      "cell_type": "markdown",
      "metadata": {
        "id": "q-YK0ehS0dIM",
        "colab_type": "text"
      },
      "source": [
        "## **Part2:** Model creation (Megha & Rajasree)\n",
        "\n"
      ]
    },
    {
      "cell_type": "code",
      "metadata": {
        "id": "flwP5tJz1eds",
        "colab_type": "code",
        "outputId": "4701ea6e-36ee-4d44-8cb5-a9245e4cfa0e",
        "colab": {
          "base_uri": "https://localhost:8080/",
          "height": 50
        }
      },
      "source": [
        "# Import the packages\n",
        "%%time\n",
        "import time\n",
        "from pyspark.ml import Pipeline\n",
        "from pyspark.ml.tuning import CrossValidator, ParamGridBuilder\n",
        "from pyspark.ml.evaluation import BinaryClassificationEvaluator as BCE"
      ],
      "execution_count": 0,
      "outputs": [
        {
          "output_type": "stream",
          "text": [
            "CPU times: user 129 µs, sys: 0 ns, total: 129 µs\n",
            "Wall time: 139 µs\n"
          ],
          "name": "stdout"
        }
      ]
    },
    {
      "cell_type": "code",
      "metadata": {
        "id": "GDu_tmjX6x6r",
        "colab_type": "code",
        "outputId": "cb6c6f94-40c1-420e-9976-b15e7126210a",
        "colab": {
          "base_uri": "https://localhost:8080/",
          "height": 67
        }
      },
      "source": [
        "%%time\n",
        "test_label_list.collect()[24]"
      ],
      "execution_count": 0,
      "outputs": [
        {
          "output_type": "stream",
          "text": [
            "CPU times: user 2.45 ms, sys: 1.85 ms, total: 4.3 ms\n",
            "Wall time: 105 ms\n"
          ],
          "name": "stdout"
        },
        {
          "output_type": "execute_result",
          "data": {
            "text/plain": [
              "('skunk', 'squirrel')"
            ]
          },
          "metadata": {
            "tags": []
          },
          "execution_count": 48
        }
      ]
    },
    {
      "cell_type": "markdown",
      "metadata": {
        "id": "BNulO3MSghSR",
        "colab_type": "text"
      },
      "source": [
        "#### **Function** - for printing statistics - To double-check using ***Numpy as well as PySpark***"
      ]
    },
    {
      "cell_type": "code",
      "metadata": {
        "id": "Wujm75YSxLMw",
        "colab_type": "code",
        "outputId": "1580db91-656c-439f-b725-3d8f1ec2fbf5",
        "colab": {
          "base_uri": "https://localhost:8080/",
          "height": 50
        }
      },
      "source": [
        "# Function for basic statistics\n",
        "%%time\n",
        "def basic_statistics(accuracy_list, test_label_list, train_cpuTime, train_wallTime,test_cpuTime, test_wallTime): \n",
        "  ind_max = np.argmax(accuracy_list)                               # Find the indices of best and worst performing pair\n",
        "  ind_min = np.argmin(accuracy_list)                     \n",
        "  ind_trainTimeMin = np.argmin(train_cpuTime)                      # Find the indices of best and worst train and test CPU time\n",
        "  ind_trainTimeMax = np.argmax(train_cpuTime)\n",
        "  ind_testTimeMin = np.argmin(test_cpuTime)\n",
        "  ind_testTimeMax = np.argmax(test_cpuTime)\n",
        "\n",
        "  print(\"Average accuracy: {:.2f}%\".format(np.mean(accuracy_list)))                        # Print the average accuracy and time\n",
        "  print(\"Average training CPU time: {:.2f} seconds\".format(np.mean(train_cpuTime)))        # Average training time - CPU time\n",
        "  print(\"Average training Wall time: {:.2f} minutes\".format(np.mean(train_wallTime)))      # Average training time - Wall time\n",
        "  print(\"Average testing CPU time: {:.2f} seconds\".format(np.mean(test_cpuTime)))          # Average testing time - CPU time\n",
        "  print(\"Average testing Wall time: {:.2f} minutes\".format(np.mean(test_wallTime)))        # Average testing time - Wall time\n",
        "  print(\"Minimum train CPU time - with test pair {}: {:.2f}%\".format(test_label_list.collect()[ind_trainTimeMin],\n",
        "                                                                                np.min(train_cpuTime)))              # for training\n",
        "  print(\"Maximum train CPU time - with test pair {}: {:.2f}%\".format(test_label_list.collect()[ind_trainTimeMax],     \n",
        "                                                                                   np.max(train_cpuTime)),\"\\n\")      # for training\n",
        "  print(\"Minimum test CPU time - with test pair {}: {:.2f}%\".format(test_label_list.collect()[ind_testTimeMin],     \n",
        "                                                                                np.min(test_cpuTime)))               # for testing\n",
        "  print(\"Maximum test CPU time - with test pair {}: {:.2f}%\".format(test_label_list.collect()[ind_testTimeMax],        \n",
        "                                                                                   np.max(test_cpuTime)),\"\\n\")       # for testing\n",
        "  print(\"Therefore, the test pair with the best accuracy of {:.2f}% is {}\".format(np.max(accuracy_list),      \n",
        "        test_label_list.collect()[ind_max]))      # Best pair\n",
        "  print(\"and the test pair with the worst accuracy of {:.2f}% is {}\".format(np.min(accuracy_list),\n",
        "        test_label_list.collect()[ind_min]),\"\\n\") # Worst pair"
      ],
      "execution_count": 0,
      "outputs": [
        {
          "output_type": "stream",
          "text": [
            "CPU times: user 8 µs, sys: 0 ns, total: 8 µs\n",
            "Wall time: 11.4 µs\n"
          ],
          "name": "stdout"
        }
      ]
    },
    {
      "cell_type": "code",
      "metadata": {
        "id": "mTDtvAZFfdxs",
        "colab_type": "code",
        "outputId": "3725d766-7a14-45f2-c4a9-fbd841fd1a6d",
        "colab": {
          "base_uri": "https://localhost:8080/",
          "height": 50
        }
      },
      "source": [
        "# Function for printing accuracy statistics\n",
        "%%time\n",
        "def accuracy_statistics(accuracy_list, test_label_list):\n",
        "  ind_max = np.argmax(accuracy_list)                                        # Find the indices of best and worst performing pair\n",
        "  ind_min = np.argmin(accuracy_list) \n",
        "\n",
        "  print(\"Statistics for the accuracy of the 25 trials ->\\\n",
        "         \\n\\nMean Accuracy: {:.2f}%\".format(np.mean(accuracy_list)))                            # Mean\n",
        "  print(\"Standard deviation: {:.2f}%\".format(np.std(accuracy_list)))                            # Standard deviation\n",
        "  print(\"25% (1st quantile) accuracy: {:.2f}%\".format(np.percentile(accuracy_list, 25)))        # 25 perccentile\n",
        "  print(\"50% (median or 2nd quantile) accuracy: {:.2f}%\".format(np.percentile(accuracy_list, 50))) # Median or 50 percentile\n",
        "  print(\"75% (3rd quantile) accuracy: {:.2f}%\".format(np.percentile(accuracy_list, 75)))           # 75 percentile\n",
        "  print(\"\\nMinimum Accuracy - with worst-performing test pair {}: {:.2f}%\".format(test_label_list.collect()[ind_min],\\\n",
        "                                                                                np.min(accuracy_list))) # Worst pair  \n",
        "  print(\"Maximum accuracy - with the best-performing test pair {}: {:.2f}%\".format(test_label_list.collect()[ind_max],\\\n",
        "                                                                                   np.max(accuracy_list)),\"\\n\") # Best pair"
      ],
      "execution_count": 0,
      "outputs": [
        {
          "output_type": "stream",
          "text": [
            "CPU times: user 5 µs, sys: 2 µs, total: 7 µs\n",
            "Wall time: 10.5 µs\n"
          ],
          "name": "stdout"
        }
      ]
    },
    {
      "cell_type": "markdown",
      "metadata": {
        "id": "gkBYX_o8F5nB",
        "colab_type": "text"
      },
      "source": [
        "##**Model 1:** Logistic Regression"
      ]
    },
    {
      "cell_type": "code",
      "metadata": {
        "id": "DU8FRE6auTKN",
        "colab_type": "code",
        "outputId": "7fc0a5a3-8698-4bad-eb1f-15b6f8f8d98d",
        "colab": {
          "base_uri": "https://localhost:8080/",
          "height": 50
        }
      },
      "source": [
        "# Import the necesary packages\n",
        "%%time\n",
        "from pyspark.ml.classification import LogisticRegression\n",
        "from pyspark.ml.evaluation import BinaryClassificationEvaluator\n",
        "from pyspark.mllib.evaluation import MulticlassMetrics"
      ],
      "execution_count": 0,
      "outputs": [
        {
          "output_type": "stream",
          "text": [
            "CPU times: user 6.88 ms, sys: 1.96 ms, total: 8.84 ms\n",
            "Wall time: 17 ms\n"
          ],
          "name": "stdout"
        }
      ]
    },
    {
      "cell_type": "code",
      "metadata": {
        "id": "vUYzpAYCRH8t",
        "colab_type": "code",
        "outputId": "54ce4cde-f6d8-4ca1-fd60-c7b4e73ff1b0",
        "colab": {
          "base_uri": "https://localhost:8080/",
          "height": 50
        }
      },
      "source": [
        "# Create new list to store the accuracy and time taken for each trial \n",
        "# to convert to RDD or dataframe \n",
        "%%time\n",
        "lr_accuracy=[]\n",
        "model_logreg=[]\n",
        "lrTest_cpuTime=[]\n",
        "lrTest_wallTime=[]\n",
        "lrTrain_cpuTime=[]\n",
        "lrTrain_wallTime=[]"
      ],
      "execution_count": 0,
      "outputs": [
        {
          "output_type": "stream",
          "text": [
            "CPU times: user 4 µs, sys: 1e+03 ns, total: 5 µs\n",
            "Wall time: 10 µs\n"
          ],
          "name": "stdout"
        }
      ]
    },
    {
      "cell_type": "markdown",
      "metadata": {
        "id": "EqP-OYcEwZn_",
        "colab_type": "text"
      },
      "source": [
        "### **Training phase - with time**"
      ]
    },
    {
      "cell_type": "code",
      "metadata": {
        "colab_type": "code",
        "outputId": "79dd37e0-6dbd-4d6d-d35e-6a4ac2d53687",
        "id": "2g66duXZScli",
        "colab": {
          "base_uri": "https://localhost:8080/",
          "height": 1000
        }
      },
      "source": [
        "# Training with Logistic Regression\n",
        "%%time\n",
        "print(\"\\033[1m \\033[4m \\033[94m {} \\033[0m\\n\".format(\"Logistic Regression - Training phase\")) # Print in underlined blue bold format\n",
        "\n",
        "# Create a 'for' loop to generate 25 trials\n",
        "for i in range(0,25):                                                       \n",
        "  cpuTime_start, wallTime_start = time.clock(),time.time()                   # Record the start time in terms of CPU and wall time\n",
        "  logreg = LogisticRegression(labelCol=\"binary_index\", featuresCol=\"features\",maxIter=10) \n",
        "\n",
        "  # Instantiate the model \n",
        "  model_lr=logreg.fit(train_list[i])                                         # Fit using the training set\n",
        "\n",
        "  # Print the CPU time, wall time and accuracy\n",
        "  cpuTime_stop, wallTime_stop = time.clock(),time.time()                     # Record the stop time in terms of CPU and wall time\n",
        "  cpuTime,wallTime = (cpuTime_stop - cpuTime_start), (wallTime_stop - wallTime_start)  # Calculate CPU & wall time for each iteration\n",
        "  print(\"Trial {} ->  Test pair {}\".format(i,test_label_list.collect()[i]),\"\\n\\t->  CPU Time: {:.2f} seconds,\".format(cpuTime),\n",
        "        \" Wall Time: {:.2f} seconds \\n\".format(wallTime))\n",
        "  \n",
        "  # Append the accuracy and time taken during each trial\n",
        "  model_logreg.append(model_lr)\n",
        "  lrTrain_cpuTime.append(cpuTime)\n",
        "  lrTrain_wallTime.append(wallTime)"
      ],
      "execution_count": 0,
      "outputs": [
        {
          "output_type": "stream",
          "text": [
            "\u001b[1m \u001b[4m \u001b[94m Logistic Regression - Training phase \u001b[0m\n",
            "\n",
            "Trial 0 ->  Test pair ('fox', 'hamster') \n",
            "\t->  CPU Time: 0.06 seconds,  Wall Time: 115.10 seconds \n",
            "\n",
            "Trial 1 ->  Test pair ('fox', 'mouse') \n",
            "\t->  CPU Time: 0.05 seconds,  Wall Time: 113.08 seconds \n",
            "\n",
            "Trial 2 ->  Test pair ('fox', 'rabbit') \n",
            "\t->  CPU Time: 0.05 seconds,  Wall Time: 113.32 seconds \n",
            "\n",
            "Trial 3 ->  Test pair ('fox', 'shrew') \n",
            "\t->  CPU Time: 0.05 seconds,  Wall Time: 112.26 seconds \n",
            "\n",
            "Trial 4 ->  Test pair ('fox', 'squirrel') \n",
            "\t->  CPU Time: 0.05 seconds,  Wall Time: 113.04 seconds \n",
            "\n",
            "Trial 5 ->  Test pair ('porcupine', 'hamster') \n",
            "\t->  CPU Time: 0.04 seconds,  Wall Time: 112.62 seconds \n",
            "\n",
            "Trial 6 ->  Test pair ('porcupine', 'mouse') \n",
            "\t->  CPU Time: 0.05 seconds,  Wall Time: 112.39 seconds \n",
            "\n",
            "Trial 7 ->  Test pair ('porcupine', 'rabbit') \n",
            "\t->  CPU Time: 0.05 seconds,  Wall Time: 111.77 seconds \n",
            "\n",
            "Trial 8 ->  Test pair ('porcupine', 'shrew') \n",
            "\t->  CPU Time: 0.05 seconds,  Wall Time: 112.70 seconds \n",
            "\n",
            "Trial 9 ->  Test pair ('porcupine', 'squirrel') \n",
            "\t->  CPU Time: 0.05 seconds,  Wall Time: 112.32 seconds \n",
            "\n",
            "Trial 10 ->  Test pair ('possum', 'hamster') \n",
            "\t->  CPU Time: 0.05 seconds,  Wall Time: 112.52 seconds \n",
            "\n",
            "Trial 11 ->  Test pair ('possum', 'mouse') \n",
            "\t->  CPU Time: 0.05 seconds,  Wall Time: 111.76 seconds \n",
            "\n",
            "Trial 12 ->  Test pair ('possum', 'rabbit') \n",
            "\t->  CPU Time: 0.05 seconds,  Wall Time: 111.64 seconds \n",
            "\n",
            "Trial 13 ->  Test pair ('possum', 'shrew') \n",
            "\t->  CPU Time: 0.05 seconds,  Wall Time: 111.81 seconds \n",
            "\n",
            "Trial 14 ->  Test pair ('possum', 'squirrel') \n",
            "\t->  CPU Time: 0.05 seconds,  Wall Time: 111.12 seconds \n",
            "\n",
            "Trial 15 ->  Test pair ('raccoon', 'hamster') \n",
            "\t->  CPU Time: 0.05 seconds,  Wall Time: 111.58 seconds \n",
            "\n",
            "Trial 16 ->  Test pair ('raccoon', 'mouse') \n",
            "\t->  CPU Time: 0.05 seconds,  Wall Time: 111.46 seconds \n",
            "\n",
            "Trial 17 ->  Test pair ('raccoon', 'rabbit') \n",
            "\t->  CPU Time: 0.05 seconds,  Wall Time: 113.12 seconds \n",
            "\n",
            "Trial 18 ->  Test pair ('raccoon', 'shrew') \n",
            "\t->  CPU Time: 0.05 seconds,  Wall Time: 113.43 seconds \n",
            "\n",
            "Trial 19 ->  Test pair ('raccoon', 'squirrel') \n",
            "\t->  CPU Time: 0.05 seconds,  Wall Time: 113.45 seconds \n",
            "\n",
            "Trial 20 ->  Test pair ('skunk', 'hamster') \n",
            "\t->  CPU Time: 0.05 seconds,  Wall Time: 113.53 seconds \n",
            "\n",
            "Trial 21 ->  Test pair ('skunk', 'mouse') \n",
            "\t->  CPU Time: 0.05 seconds,  Wall Time: 111.85 seconds \n",
            "\n",
            "Trial 22 ->  Test pair ('skunk', 'rabbit') \n",
            "\t->  CPU Time: 0.05 seconds,  Wall Time: 111.10 seconds \n",
            "\n",
            "Trial 23 ->  Test pair ('skunk', 'shrew') \n",
            "\t->  CPU Time: 0.05 seconds,  Wall Time: 112.40 seconds \n",
            "\n",
            "Trial 24 ->  Test pair ('skunk', 'squirrel') \n",
            "\t->  CPU Time: 0.05 seconds,  Wall Time: 112.22 seconds \n",
            "\n",
            "CPU times: user 1.06 s, sys: 300 ms, total: 1.36 s\n",
            "Wall time: 46min 53s\n"
          ],
          "name": "stdout"
        }
      ]
    },
    {
      "cell_type": "code",
      "metadata": {
        "id": "fhGDFdUC2H95",
        "colab_type": "code",
        "outputId": "0aa3083a-3f9a-46aa-8024-2241e77287f9",
        "colab": {
          "base_uri": "https://localhost:8080/",
          "height": 67
        }
      },
      "source": [
        "# Check the file type of items in the list\n",
        "%%time\n",
        "print (type(model_logreg[0]), type(lrTrain_cpuTime[0]), type(lrTrain_wallTime[0]))"
      ],
      "execution_count": 0,
      "outputs": [
        {
          "output_type": "stream",
          "text": [
            "<class 'pyspark.ml.classification.LogisticRegressionModel'> <class 'float'> <class 'float'>\n",
            "CPU times: user 1.15 ms, sys: 337 µs, total: 1.49 ms\n",
            "Wall time: 3.84 ms\n"
          ],
          "name": "stdout"
        }
      ]
    },
    {
      "cell_type": "markdown",
      "metadata": {
        "id": "fAZhOHrLwqTf",
        "colab_type": "text"
      },
      "source": [
        "### **Testing phase - with time**"
      ]
    },
    {
      "cell_type": "code",
      "metadata": {
        "colab_type": "code",
        "id": "BeL3-PuLSp_c",
        "outputId": "f8624987-4b6e-4c02-ed0b-417843643424",
        "colab": {
          "base_uri": "https://localhost:8080/",
          "height": 1000
        }
      },
      "source": [
        "# Testing and scoring with logistic regression\n",
        "%%time\n",
        "print('\\033[1m \\033[4m \\033[94m {} \\033[0m\\n'.format('Logistic Regression - Testing phase')) # Title in blue underlined bold format \n",
        "\n",
        "# Create a 'for' loop to generate 25 trials\n",
        "for i in range(0,25):                                                       \n",
        "  cpuTime_start, wallTime_start = time.clock(),time.time()                                # Record the start time in terms of CPU and wall time\n",
        "  \n",
        "  # Prediction and scoring with the testing set\n",
        "  predict_lr=model_logreg[i].transform(test_list[i])                         \n",
        "  eval=BinaryClassificationEvaluator(labelCol=\"binary_index\", rawPredictionCol= \"prediction\")     # Prediction score / accuracy\n",
        "  accuracy = (eval.evaluate(predict_lr))*100                                                      # Get the percentage accuracy\n",
        "\n",
        "  # Print the CPU time, wall time and accuracy\n",
        "  cpuTime_stop, wallTime_stop = time.clock(),time.time()                                  # Record the stop time in terms of CPU and wall time\n",
        "  cpuTime,wallTime = (cpuTime_stop - cpuTime_start), (wallTime_stop - wallTime_start)     # Calculate CPU & wall time for each iteration\n",
        "  print(\"Trial {} ->  Accuracy with test pair {} is: {:.2f}%\".format(i,test_label_list.collect()[i], accuracy),\n",
        "        \"\\n\\t    CPU Time: {:.2f} seconds,\".format(cpuTime),\"\\tWall Time: {:.2f} seconds \\n\".format(wallTime)) # Print the Accuracy, CPU & Wall time\n",
        "\n",
        "  # Append the accuracy and time taken during each trial\n",
        "  lr_accuracy.append(accuracy)                                               \n",
        "  lrTest_cpuTime.append(cpuTime)\n",
        "  lrTest_wallTime.append(wallTime)"
      ],
      "execution_count": 0,
      "outputs": [
        {
          "output_type": "stream",
          "text": [
            "\u001b[1m \u001b[4m \u001b[94m Logistic Regression - Testing phase \u001b[0m\n",
            "\n",
            "Trial 0 ->  Accuracy with test pair ('fox', 'hamster') is: 50.17% \n",
            "\t    CPU Time: 0.03 seconds, \tWall Time: 103.36 seconds \n",
            "\n",
            "Trial 1 ->  Accuracy with test pair ('fox', 'mouse') is: 44.33% \n",
            "\t    CPU Time: 0.03 seconds, \tWall Time: 103.98 seconds \n",
            "\n",
            "Trial 2 ->  Accuracy with test pair ('fox', 'rabbit') is: 36.42% \n",
            "\t    CPU Time: 0.03 seconds, \tWall Time: 103.37 seconds \n",
            "\n",
            "Trial 3 ->  Accuracy with test pair ('fox', 'shrew') is: 38.08% \n",
            "\t    CPU Time: 0.03 seconds, \tWall Time: 103.44 seconds \n",
            "\n",
            "Trial 4 ->  Accuracy with test pair ('fox', 'squirrel') is: 38.25% \n",
            "\t    CPU Time: 0.03 seconds, \tWall Time: 103.62 seconds \n",
            "\n",
            "Trial 5 ->  Accuracy with test pair ('porcupine', 'hamster') is: 44.83% \n",
            "\t    CPU Time: 0.03 seconds, \tWall Time: 103.19 seconds \n",
            "\n",
            "Trial 6 ->  Accuracy with test pair ('porcupine', 'mouse') is: 58.42% \n",
            "\t    CPU Time: 0.03 seconds, \tWall Time: 103.90 seconds \n",
            "\n",
            "Trial 7 ->  Accuracy with test pair ('porcupine', 'rabbit') is: 50.58% \n",
            "\t    CPU Time: 0.03 seconds, \tWall Time: 104.05 seconds \n",
            "\n",
            "Trial 8 ->  Accuracy with test pair ('porcupine', 'shrew') is: 60.17% \n",
            "\t    CPU Time: 0.03 seconds, \tWall Time: 102.96 seconds \n",
            "\n",
            "Trial 9 ->  Accuracy with test pair ('porcupine', 'squirrel') is: 53.08% \n",
            "\t    CPU Time: 0.04 seconds, \tWall Time: 103.76 seconds \n",
            "\n",
            "Trial 10 ->  Accuracy with test pair ('possum', 'hamster') is: 44.58% \n",
            "\t    CPU Time: 0.03 seconds, \tWall Time: 103.43 seconds \n",
            "\n",
            "Trial 11 ->  Accuracy with test pair ('possum', 'mouse') is: 57.75% \n",
            "\t    CPU Time: 0.04 seconds, \tWall Time: 103.32 seconds \n",
            "\n",
            "Trial 12 ->  Accuracy with test pair ('possum', 'rabbit') is: 49.67% \n",
            "\t    CPU Time: 0.03 seconds, \tWall Time: 104.12 seconds \n",
            "\n",
            "Trial 13 ->  Accuracy with test pair ('possum', 'shrew') is: 50.75% \n",
            "\t    CPU Time: 0.03 seconds, \tWall Time: 103.59 seconds \n",
            "\n",
            "Trial 14 ->  Accuracy with test pair ('possum', 'squirrel') is: 49.25% \n",
            "\t    CPU Time: 0.03 seconds, \tWall Time: 104.01 seconds \n",
            "\n",
            "Trial 15 ->  Accuracy with test pair ('raccoon', 'hamster') is: 40.25% \n",
            "\t    CPU Time: 0.03 seconds, \tWall Time: 104.32 seconds \n",
            "\n",
            "Trial 16 ->  Accuracy with test pair ('raccoon', 'mouse') is: 56.75% \n",
            "\t    CPU Time: 0.03 seconds, \tWall Time: 104.37 seconds \n",
            "\n",
            "Trial 17 ->  Accuracy with test pair ('raccoon', 'rabbit') is: 52.00% \n",
            "\t    CPU Time: 0.03 seconds, \tWall Time: 104.09 seconds \n",
            "\n",
            "Trial 18 ->  Accuracy with test pair ('raccoon', 'shrew') is: 55.17% \n",
            "\t    CPU Time: 0.03 seconds, \tWall Time: 103.37 seconds \n",
            "\n",
            "Trial 19 ->  Accuracy with test pair ('raccoon', 'squirrel') is: 51.50% \n",
            "\t    CPU Time: 0.03 seconds, \tWall Time: 104.12 seconds \n",
            "\n",
            "Trial 20 ->  Accuracy with test pair ('skunk', 'hamster') is: 35.75% \n",
            "\t    CPU Time: 0.03 seconds, \tWall Time: 104.17 seconds \n",
            "\n",
            "Trial 21 ->  Accuracy with test pair ('skunk', 'mouse') is: 72.17% \n",
            "\t    CPU Time: 0.03 seconds, \tWall Time: 102.75 seconds \n",
            "\n",
            "Trial 22 ->  Accuracy with test pair ('skunk', 'rabbit') is: 60.08% \n",
            "\t    CPU Time: 0.04 seconds, \tWall Time: 104.09 seconds \n",
            "\n",
            "Trial 23 ->  Accuracy with test pair ('skunk', 'shrew') is: 71.25% \n",
            "\t    CPU Time: 0.03 seconds, \tWall Time: 103.57 seconds \n",
            "\n",
            "Trial 24 ->  Accuracy with test pair ('skunk', 'squirrel') is: 68.00% \n",
            "\t    CPU Time: 0.03 seconds, \tWall Time: 103.16 seconds \n",
            "\n",
            "CPU times: user 690 ms, sys: 170 ms, total: 860 ms\n",
            "Wall time: 43min 13s\n"
          ],
          "name": "stdout"
        }
      ]
    },
    {
      "cell_type": "markdown",
      "metadata": {
        "id": "RMshQKkecBzL",
        "colab_type": "text"
      },
      "source": [
        "####**Model 1:** Statistical study - we are double-checking using ***Numpy as well as PySpark***"
      ]
    },
    {
      "cell_type": "markdown",
      "metadata": {
        "id": "ap9l8ICvKkZV",
        "colab_type": "text"
      },
      "source": [
        "##### **Using Numpy**"
      ]
    },
    {
      "cell_type": "code",
      "metadata": {
        "colab_type": "code",
        "id": "fyPrB_lBSzjL",
        "outputId": "9713b00f-2e2f-4e14-b6a8-a085c429243e",
        "colab": {
          "base_uri": "https://localhost:8080/",
          "height": 284
        }
      },
      "source": [
        "# Print the basic statistics - using Numpy\n",
        "%%time\n",
        "basic_statistics(lr_accuracy, test_label_list, lrTrain_cpuTime, lrTrain_wallTime,lrTest_cpuTime, lrTest_wallTime)"
      ],
      "execution_count": 0,
      "outputs": [
        {
          "output_type": "stream",
          "text": [
            "Average accuracy: 51.57%\n",
            "Average training CPU time: 0.05 seconds\n",
            "Average training Wall time: 112.46 minutes\n",
            "Average testing CPU time: 0.03 seconds\n",
            "Average testing Wall time: 103.68 minutes\n",
            "Minimum train CPU time - with test pair ('porcupine', 'hamster'): 0.04%\n",
            "Maximum train CPU time - with test pair ('fox', 'hamster'): 0.06% \n",
            "\n",
            "Minimum test CPU time - with test pair ('possum', 'rabbit'): 0.03%\n",
            "Maximum test CPU time - with test pair ('skunk', 'rabbit'): 0.04% \n",
            "\n",
            "Therefore, the test pair with the best accuracy of 72.17% is ('skunk', 'mouse')\n",
            "and the test pair with the worst accuracy of 35.75% is ('skunk', 'hamster') \n",
            "\n",
            "CPU times: user 25 ms, sys: 4.5 ms, total: 29.5 ms\n",
            "Wall time: 469 ms\n"
          ],
          "name": "stdout"
        }
      ]
    },
    {
      "cell_type": "code",
      "metadata": {
        "id": "Y591WrMhSzP9",
        "colab_type": "code",
        "outputId": "59e71681-e507-4f00-be45-924f455f3309",
        "colab": {
          "base_uri": "https://localhost:8080/",
          "height": 234
        }
      },
      "source": [
        "# Check Statistics pertaining to Accuracy\n",
        "%%time\n",
        "accuracy_statistics(lr_accuracy, test_label_list)"
      ],
      "execution_count": 0,
      "outputs": [
        {
          "output_type": "stream",
          "text": [
            "Statistics for the accuracy of the 25 trials ->         \n",
            "\n",
            "Mean Accuracy: 51.57%\n",
            "Standard deviation: 9.96%\n",
            "25% (1st quantile) accuracy: 44.58%\n",
            "50% (median or 2nd quantile) accuracy: 50.75%\n",
            "75% (3rd quantile) accuracy: 57.75%\n",
            "\n",
            "Minimum Accuracy - with worst-performing test pair ('skunk', 'hamster'): 35.75%\n",
            "Maximum accuracy - with the best-performing test pair ('skunk', 'mouse'): 72.17% \n",
            "\n",
            "CPU times: user 14 ms, sys: 1.38 ms, total: 15.4 ms\n",
            "Wall time: 174 ms\n"
          ],
          "name": "stdout"
        }
      ]
    },
    {
      "cell_type": "markdown",
      "metadata": {
        "colab_type": "text",
        "id": "UW--lbrT-Xcy"
      },
      "source": [
        "##### **Using PySpark**"
      ]
    },
    {
      "cell_type": "code",
      "metadata": {
        "id": "qn3ce8zS-YLD",
        "colab_type": "code",
        "outputId": "6bb548a9-d6f9-4be9-950c-924a21de55b6",
        "colab": {
          "base_uri": "https://localhost:8080/",
          "height": 50
        }
      },
      "source": [
        "# Import the packages\n",
        "%%time\n",
        "import pyspark.sql.functions as f\n",
        "from pyspark.sql.functions import col\n",
        "from pyspark.sql.types import StructType, StructField, LongType"
      ],
      "execution_count": 0,
      "outputs": [
        {
          "output_type": "stream",
          "text": [
            "CPU times: user 20 µs, sys: 5 µs, total: 25 µs\n",
            "Wall time: 26.7 µs\n"
          ],
          "name": "stdout"
        }
      ]
    },
    {
      "cell_type": "code",
      "metadata": {
        "id": "H74adtNVzWip",
        "colab_type": "code",
        "outputId": "7a4fef44-d0e5-4d47-a264-1e69db345f5e",
        "colab": {
          "base_uri": "https://localhost:8080/",
          "height": 552
        }
      },
      "source": [
        "# Convert the RDD with test labels into dataframe\n",
        "%%time\n",
        "df = test_label_list.toDF(['Medium mammal', 'Small mammal'])\n",
        "df.show(25)"
      ],
      "execution_count": 0,
      "outputs": [
        {
          "output_type": "stream",
          "text": [
            "+-------------+------------+\n",
            "|Medium mammal|Small mammal|\n",
            "+-------------+------------+\n",
            "|          fox|     hamster|\n",
            "|          fox|       mouse|\n",
            "|          fox|      rabbit|\n",
            "|          fox|       shrew|\n",
            "|          fox|    squirrel|\n",
            "|    porcupine|     hamster|\n",
            "|    porcupine|       mouse|\n",
            "|    porcupine|      rabbit|\n",
            "|    porcupine|       shrew|\n",
            "|    porcupine|    squirrel|\n",
            "|       possum|     hamster|\n",
            "|       possum|       mouse|\n",
            "|       possum|      rabbit|\n",
            "|       possum|       shrew|\n",
            "|       possum|    squirrel|\n",
            "|      raccoon|     hamster|\n",
            "|      raccoon|       mouse|\n",
            "|      raccoon|      rabbit|\n",
            "|      raccoon|       shrew|\n",
            "|      raccoon|    squirrel|\n",
            "|        skunk|     hamster|\n",
            "|        skunk|       mouse|\n",
            "|        skunk|      rabbit|\n",
            "|        skunk|       shrew|\n",
            "|        skunk|    squirrel|\n",
            "+-------------+------------+\n",
            "\n",
            "CPU times: user 23.9 ms, sys: 2.7 ms, total: 26.6 ms\n",
            "Wall time: 1.65 s\n"
          ],
          "name": "stdout"
        }
      ]
    },
    {
      "cell_type": "code",
      "metadata": {
        "id": "PghebiWna2Qh",
        "colab_type": "code",
        "outputId": "d0919ce9-80d3-46db-a202-881059f7c764",
        "colab": {
          "base_uri": "https://localhost:8080/",
          "height": 67
        }
      },
      "source": [
        "# Check length to avoid extra rows from possible re-execution\n",
        "%%time\n",
        "print (len(lr_accuracy), len(lrTrain_cpuTime),len(lrTrain_wallTime),len(lrTest_cpuTime), len(lrTest_wallTime))"
      ],
      "execution_count": 0,
      "outputs": [
        {
          "output_type": "stream",
          "text": [
            "25 25 25 25 25\n",
            "CPU times: user 1.33 ms, sys: 0 ns, total: 1.33 ms\n",
            "Wall time: 1.28 ms\n"
          ],
          "name": "stdout"
        }
      ]
    },
    {
      "cell_type": "code",
      "metadata": {
        "id": "25gKUldiK5Vy",
        "colab_type": "code",
        "outputId": "d32ea7c7-01d8-471a-dc63-3a9f01e6257f",
        "colab": {
          "base_uri": "https://localhost:8080/",
          "height": 50
        }
      },
      "source": [
        "# Create a dataframe with Accuracy and time\n",
        "%%time\n",
        "new_df = spark.createDataFrame(zip(lrTrain_cpuTime, lrTrain_wallTime,lrTest_cpuTime,lrTest_wallTime, lr_accuracy),\\\n",
        "                               schema=['Train CPU time','Train Wall time','Test CPU time','Test Wall time','Accuracy'])\n"
      ],
      "execution_count": 0,
      "outputs": [
        {
          "output_type": "stream",
          "text": [
            "CPU times: user 6.74 ms, sys: 84 µs, total: 6.82 ms\n",
            "Wall time: 20.1 ms\n"
          ],
          "name": "stdout"
        }
      ]
    },
    {
      "cell_type": "code",
      "metadata": {
        "id": "tS91wqcwG7UK",
        "colab_type": "code",
        "outputId": "b9e0aafb-8f9a-40d5-8cc3-3aedc4ee1cf0",
        "colab": {
          "base_uri": "https://localhost:8080/",
          "height": 84
        }
      },
      "source": [
        "# Join the 2 dataframes horizontally by creating a temporary index\n",
        "%%time\n",
        "# Define a function to add index\n",
        "def with_column_index(sdf): \n",
        "    new_schema = StructType(sdf.schema.fields + [StructField(\"ColumnIndex\", LongType(), False),])\n",
        "    return sdf.rdd.zipWithIndex().map(lambda row: row[0] + (row[1],)).toDF(schema=new_schema)\n",
        "\n",
        "# Add index, merge based on index using join function and subsquently delete the column\n",
        "df1_withInd = with_column_index(df)                             # Call the function\n",
        "df2_withInd = with_column_index(new_df)\n",
        "LogregDF0 = df1_withInd.join(df2_withInd, df1_withInd.ColumnIndex == df2_withInd.ColumnIndex, 'inner').drop(\"ColumnIndex\")\n",
        "print(\"Length:\",LogregDF.count(),\"\\nFile type:\", type(LogregDF))"
      ],
      "execution_count": 0,
      "outputs": [
        {
          "output_type": "stream",
          "text": [
            "Length: 25 \n",
            "File type: <class 'pyspark.sql.dataframe.DataFrame'>\n",
            "CPU times: user 63.6 ms, sys: 11.5 ms, total: 75.1 ms\n",
            "Wall time: 4.5 s\n"
          ],
          "name": "stdout"
        }
      ]
    },
    {
      "cell_type": "code",
      "metadata": {
        "id": "ol4arU_ixJ9Y",
        "colab_type": "code",
        "outputId": "2cf726ad-b9c4-427c-a9a3-8e78d853dd7c",
        "colab": {
          "base_uri": "https://localhost:8080/",
          "height": 552
        }
      },
      "source": [
        "# Round the numbers using round funtion from SQL functions and use alias to rename.\n",
        "%%time\n",
        "LogregDF=LogregDF0.select('Medium mammal','Small mammal',f.round(LogregDF0[\"Train CPU time\"],4).alias(\"Train CPU time\"),\\\n",
        "                         f.round(LogregDF0[\"Train Wall time\"],4).alias(\"Train Wall time\"), \n",
        "                         f.round(LogregDF0[\"Test CPU time\"],4).alias(\"Test CPU time\"), \n",
        "                         f.round(LogregDF0[\"Test Wall time\"],4).alias(\"Test Wall time\"),\n",
        "                         f.round(LogregDF0[\"Accuracy\"],2).alias(\"Accuracy\"))\n",
        "\n",
        "# Use orderBy to print the highest accuracy first, in descending order\n",
        "LogregDF = LogregDF.orderBy(desc('Accuracy'))\n",
        "LogregDF.show(25)                      \n",
        "type(LogregDF)"
      ],
      "execution_count": 0,
      "outputs": [
        {
          "output_type": "stream",
          "text": [
            "+-------------+------------+--------------+---------------+-------------+--------------+--------+\n",
            "|Medium mammal|Small mammal|Train CPU time|Train Wall time|Test CPU time|Test Wall time|Accuracy|\n",
            "+-------------+------------+--------------+---------------+-------------+--------------+--------+\n",
            "|        skunk|       mouse|        0.0486|       111.8481|       0.0291|      102.7486|   72.17|\n",
            "|        skunk|       shrew|        0.0495|       112.3999|       0.0267|      103.5654|   71.25|\n",
            "|        skunk|    squirrel|        0.0511|       112.2231|       0.0268|        103.16|    68.0|\n",
            "|    porcupine|       shrew|         0.052|       112.6959|       0.0284|      102.9646|   60.17|\n",
            "|        skunk|      rabbit|        0.0503|       111.0962|       0.0374|      104.0878|   60.08|\n",
            "|    porcupine|       mouse|        0.0515|       112.3926|       0.0306|      103.8957|   58.42|\n",
            "|       possum|       mouse|        0.0484|       111.7642|       0.0354|      103.3238|   57.75|\n",
            "|      raccoon|       mouse|        0.0546|       111.4625|       0.0295|      104.3674|   56.75|\n",
            "|      raccoon|       shrew|        0.0533|       113.4259|        0.035|      103.3728|   55.17|\n",
            "|    porcupine|    squirrel|        0.0486|       112.3163|       0.0356|       103.759|   53.08|\n",
            "|      raccoon|      rabbit|        0.0499|       113.1166|       0.0342|      104.0864|    52.0|\n",
            "|      raccoon|    squirrel|        0.0492|       113.4543|       0.0296|      104.1219|    51.5|\n",
            "|       possum|       shrew|        0.0483|       111.8132|       0.0346|      103.5918|   50.75|\n",
            "|    porcupine|      rabbit|        0.0501|       111.7678|       0.0279|      104.0498|   50.58|\n",
            "|          fox|     hamster|         0.056|       115.1037|       0.0274|      103.3615|   50.17|\n",
            "|       possum|      rabbit|        0.0529|       111.6354|        0.026|      104.1216|   49.67|\n",
            "|       possum|    squirrel|        0.0475|       111.1181|        0.029|      104.0089|   49.25|\n",
            "|    porcupine|     hamster|        0.0447|       112.6235|       0.0287|      103.1888|   44.83|\n",
            "|       possum|     hamster|        0.0502|       112.5236|       0.0264|      103.4346|   44.58|\n",
            "|          fox|       mouse|        0.0524|       113.0787|       0.0287|      103.9821|   44.33|\n",
            "|      raccoon|     hamster|         0.049|       111.5806|       0.0305|      104.3159|   40.25|\n",
            "|          fox|    squirrel|        0.0521|       113.0445|       0.0329|      103.6203|   38.25|\n",
            "|          fox|       shrew|        0.0529|       112.2612|       0.0328|      103.4386|   38.08|\n",
            "|          fox|      rabbit|        0.0498|       113.3229|       0.0307|      103.3699|   36.42|\n",
            "|        skunk|     hamster|        0.0518|       113.5338|       0.0328|      104.1727|   35.75|\n",
            "+-------------+------------+--------------+---------------+-------------+--------------+--------+\n",
            "\n",
            "CPU times: user 35.1 ms, sys: 8.94 ms, total: 44 ms\n",
            "Wall time: 3.32 s\n"
          ],
          "name": "stdout"
        }
      ]
    },
    {
      "cell_type": "code",
      "metadata": {
        "id": "KR4gRav4zTT7",
        "colab_type": "code",
        "outputId": "15aec888-d500-4a76-f781-dc9157e12f3e",
        "colab": {
          "base_uri": "https://localhost:8080/",
          "height": 217
        }
      },
      "source": [
        "# Check statistical features of the dataset using describe such as mean,standard deviation, minimum and maximum\n",
        "%%time\n",
        "LogregDF.select('Accuracy','Train CPU time','Train Wall time','Test CPU time','Test Wall time')\\\n",
        ".describe().show()"
      ],
      "execution_count": 0,
      "outputs": [
        {
          "output_type": "stream",
          "text": [
            "+-------+------------------+--------------------+-----------------+--------------------+------------------+\n",
            "|summary|          Accuracy|      Train CPU time|  Train Wall time|       Test CPU time|    Test Wall time|\n",
            "+-------+------------------+--------------------+-----------------+--------------------+------------------+\n",
            "|  count|                25|                  25|               25|                  25|                25|\n",
            "|   mean| 51.56999999999999| 0.05058800000000001|       112.464104|            0.030668|103.68439600000002|\n",
            "| stddev|10.169428450016255|0.002440000000000...|0.913769800277946|0.003307405831362904|0.4417140652050818|\n",
            "|    min|             35.75|              0.0447|         111.0962|               0.026|          102.7486|\n",
            "|    max|             72.17|               0.056|         115.1037|              0.0374|          104.3674|\n",
            "+-------+------------------+--------------------+-----------------+--------------------+------------------+\n",
            "\n",
            "CPU times: user 26.4 ms, sys: 10.3 ms, total: 36.7 ms\n",
            "Wall time: 2.74 s\n"
          ],
          "name": "stdout"
        }
      ]
    },
    {
      "cell_type": "markdown",
      "metadata": {
        "colab_type": "text",
        "id": "ajbjN4ePa9w7"
      },
      "source": [
        "#####**Note:** Below value will be slightly lesser than the result from %%time as we excluded print statements, loops and appends."
      ]
    },
    {
      "cell_type": "code",
      "metadata": {
        "colab_type": "code",
        "outputId": "42f7744f-f096-4d78-b1d0-3b5547235baf",
        "id": "TsqCHvwFa9w_",
        "colab": {
          "base_uri": "https://localhost:8080/",
          "height": 150
        }
      },
      "source": [
        "# Check the total time (solely training and testing time, excluding loops, appends and print statements)\n",
        "%%time\n",
        "lr_sum = LogregDF.select(f.sum(\"Train CPU time\"), f.sum(\"Train Wall time\"), f.sum(\"Test CPU time\"), f.sum(\"Test Wall time\"))\n",
        "lr_sum.show()"
      ],
      "execution_count": 0,
      "outputs": [
        {
          "output_type": "stream",
          "text": [
            "+-------------------+--------------------+------------------+-------------------+\n",
            "|sum(Train CPU time)|sum(Train Wall time)|sum(Test CPU time)|sum(Test Wall time)|\n",
            "+-------------------+--------------------+------------------+-------------------+\n",
            "| 1.2647000000000002|           2811.6026|            0.7667|          2592.1099|\n",
            "+-------------------+--------------------+------------------+-------------------+\n",
            "\n",
            "CPU times: user 58.7 ms, sys: 20.1 ms, total: 78.9 ms\n",
            "Wall time: 4.91 s\n"
          ],
          "name": "stdout"
        }
      ]
    },
    {
      "cell_type": "code",
      "metadata": {
        "id": "SxdVUVagSlYN",
        "colab_type": "code",
        "outputId": "870b5674-d2e4-4a6c-82a5-bf2a2778a37f",
        "colab": {
          "base_uri": "https://localhost:8080/",
          "height": 67
        }
      },
      "source": [
        "# Method to find quantiles in Pyspark\n",
        "%%time\n",
        "new = LogregDF.approxQuantile(\"Accuracy\", [0.25, 0.5, 0.75], 0)\n",
        "print(\"Quantiles -> [Q1/25%, Q2/50%/Median,  Q3/75%]:\", new)\n"
      ],
      "execution_count": 0,
      "outputs": [
        {
          "output_type": "stream",
          "text": [
            "Quantiles -> [Q1/25%, Q2/50%/Median,  Q3/75%]: [44.58, 50.75, 57.75]\n",
            "CPU times: user 29.4 ms, sys: 11.2 ms, total: 40.6 ms\n",
            "Wall time: 2.66 s\n"
          ],
          "name": "stdout"
        }
      ]
    },
    {
      "cell_type": "markdown",
      "metadata": {
        "id": "xTivTpIS45RS",
        "colab_type": "text"
      },
      "source": [
        "**As expected, the statistics generated by Numpy and PySpark are exactly same.**\n",
        "##### Grid with pair-wise results"
      ]
    },
    {
      "cell_type": "code",
      "metadata": {
        "id": "4mQKtGUb5ENd",
        "colab_type": "code",
        "outputId": "455fab34-5bbb-486a-9309-4760908fc80f",
        "colab": {
          "base_uri": "https://localhost:8080/",
          "height": 237
        }
      },
      "source": [
        "# Merge all results using groupby, pivot and aggregate function\n",
        "%%time\n",
        "Logred_all=LogregDF.groupBy(\"Small mammal\").pivot(\"Medium mammal\").agg(f.first(\"Accuracy\").alias('(Accuracy)'),   \n",
        "                                                                     f.first(\"Train CPU Time\").alias('(Train CPU Time)'),\n",
        "                                                                     f.first(\"Test CPU Time\").alias('(Test CPU Time)'))   \n",
        "Logred_all.withColumnRenamed(\"Small mammal\",\"Small/Medium\").show()                          # Rename column name"
      ],
      "execution_count": 0,
      "outputs": [
        {
          "output_type": "stream",
          "text": [
            "+------------+--------------+--------------------+-------------------+--------------------+--------------------------+-------------------------+-----------------+-----------------------+----------------------+------------------+------------------------+-----------------------+----------------+----------------------+---------------------+\n",
            "|Small/Medium|fox_(Accuracy)|fox_(Train CPU Time)|fox_(Test CPU Time)|porcupine_(Accuracy)|porcupine_(Train CPU Time)|porcupine_(Test CPU Time)|possum_(Accuracy)|possum_(Train CPU Time)|possum_(Test CPU Time)|raccoon_(Accuracy)|raccoon_(Train CPU Time)|raccoon_(Test CPU Time)|skunk_(Accuracy)|skunk_(Train CPU Time)|skunk_(Test CPU Time)|\n",
            "+------------+--------------+--------------------+-------------------+--------------------+--------------------------+-------------------------+-----------------+-----------------------+----------------------+------------------+------------------------+-----------------------+----------------+----------------------+---------------------+\n",
            "|    squirrel|         38.25|              0.0521|             0.0329|               53.08|                    0.0486|                   0.0356|            49.25|                 0.0475|                 0.029|              51.5|                  0.0492|                 0.0296|            68.0|                0.0511|               0.0268|\n",
            "|       shrew|         38.08|              0.0529|             0.0328|               60.17|                     0.052|                   0.0284|            50.75|                 0.0483|                0.0346|             55.17|                  0.0533|                  0.035|           71.25|                0.0495|               0.0267|\n",
            "|     hamster|         50.17|               0.056|             0.0274|               44.83|                    0.0447|                   0.0287|            44.58|                 0.0502|                0.0264|             40.25|                   0.049|                 0.0305|           35.75|                0.0518|               0.0328|\n",
            "|      rabbit|         36.42|              0.0498|             0.0307|               50.58|                    0.0501|                   0.0279|            49.67|                 0.0529|                 0.026|              52.0|                  0.0499|                 0.0342|           60.08|                0.0503|               0.0374|\n",
            "|       mouse|         44.33|              0.0524|             0.0287|               58.42|                    0.0515|                   0.0306|            57.75|                 0.0484|                0.0354|             56.75|                  0.0546|                 0.0295|           72.17|                0.0486|               0.0291|\n",
            "+------------+--------------+--------------------+-------------------+--------------------+--------------------------+-------------------------+-----------------+-----------------------+----------------------+------------------+------------------------+-----------------------+----------------+----------------------+---------------------+\n",
            "\n",
            "CPU times: user 109 ms, sys: 36.3 ms, total: 145 ms\n",
            "Wall time: 7.74 s\n"
          ],
          "name": "stdout"
        }
      ]
    },
    {
      "cell_type": "code",
      "metadata": {
        "colab_type": "code",
        "outputId": "6ed41635-2064-4461-cd8e-fd8c4bf418f9",
        "id": "xls9DVZs6ayl",
        "colab": {
          "base_uri": "https://localhost:8080/",
          "height": 217
        }
      },
      "source": [
        "# Create a 5*5 grid\n",
        "%%time\n",
        "Logred_grid=LogregDF.groupBy(\"Small mammal\").pivot(\"Medium mammal\").agg(f.first(\"Accuracy\")) # Use groupBy, Pivot and aggregate to create a grid\n",
        "Logred_grid.withColumnRenamed(\"Small mammal\",\"Small/Medium\").show()                          # Rename column name"
      ],
      "execution_count": 0,
      "outputs": [
        {
          "output_type": "stream",
          "text": [
            "+------------+-----+---------+------+-------+-----+\n",
            "|Small/Medium|  fox|porcupine|possum|raccoon|skunk|\n",
            "+------------+-----+---------+------+-------+-----+\n",
            "|    squirrel|38.25|    53.08| 49.25|   51.5| 68.0|\n",
            "|       shrew|38.08|    60.17| 50.75|  55.17|71.25|\n",
            "|     hamster|50.17|    44.83| 44.58|  40.25|35.75|\n",
            "|      rabbit|36.42|    50.58| 49.67|   52.0|60.08|\n",
            "|       mouse|44.33|    58.42| 57.75|  56.75|72.17|\n",
            "+------------+-----+---------+------+-------+-----+\n",
            "\n",
            "CPU times: user 111 ms, sys: 28.8 ms, total: 140 ms\n",
            "Wall time: 7.37 s\n"
          ],
          "name": "stdout"
        }
      ]
    },
    {
      "cell_type": "markdown",
      "metadata": {
        "colab_type": "text",
        "id": "i8hgLnTERWes"
      },
      "source": [
        "##**Model 2:** Random Forest"
      ]
    },
    {
      "cell_type": "code",
      "metadata": {
        "colab_type": "code",
        "id": "qP7ZklGbRWe0",
        "outputId": "ae883114-bf5c-40dd-a47a-f06bfc2b49b4",
        "colab": {
          "base_uri": "https://localhost:8080/",
          "height": 50
        }
      },
      "source": [
        "## Import the necesary packages\n",
        "%%time\n",
        "from pyspark.ml.classification import RandomForestClassifier"
      ],
      "execution_count": 0,
      "outputs": [
        {
          "output_type": "stream",
          "text": [
            "CPU times: user 6.84 ms, sys: 939 µs, total: 7.78 ms\n",
            "Wall time: 7.86 ms\n"
          ],
          "name": "stdout"
        }
      ]
    },
    {
      "cell_type": "code",
      "metadata": {
        "colab_type": "code",
        "outputId": "fa310f4b-2501-4acc-afa4-67db2bb8caae",
        "id": "Zy318P11RWe-",
        "colab": {
          "base_uri": "https://localhost:8080/",
          "height": 50
        }
      },
      "source": [
        "# Create new list to store the accuracy and time taken for each trial \n",
        "# to convert to RDD or dataframe \n",
        "%%time\n",
        "rfc_accuracy=[]\n",
        "model_rfc=[]\n",
        "rfcTest_cpuTime=[]\n",
        "rfcTest_wallTime=[]\n",
        "rfcTrain_cpuTime=[]\n",
        "rfcTrain_wallTime=[]"
      ],
      "execution_count": 0,
      "outputs": [
        {
          "output_type": "stream",
          "text": [
            "CPU times: user 3 µs, sys: 1 µs, total: 4 µs\n",
            "Wall time: 6.44 µs\n"
          ],
          "name": "stdout"
        }
      ]
    },
    {
      "cell_type": "markdown",
      "metadata": {
        "colab_type": "text",
        "id": "QHeX5L-0RWfH"
      },
      "source": [
        "### **Training phase - with time**"
      ]
    },
    {
      "cell_type": "code",
      "metadata": {
        "colab_type": "code",
        "outputId": "aec1ae8d-bbf8-4b8d-ad9a-641f4648f68e",
        "id": "oCI2MaBQRWfJ",
        "colab": {
          "base_uri": "https://localhost:8080/",
          "height": 1000
        }
      },
      "source": [
        "# Training with Random Forest\n",
        "%%time\n",
        "print(\"\\033[1m \\033[4m \\033[94m {} \\033[0m\\n\".format(\"Random Forest - Training phase\")) # Print in underlined blue bold format\n",
        " Create a 'for' loop to generate 25 trials\n",
        "for i in range(0,25):                                                       \n",
        "  cpuTime_start, wallTime_start = time.clock(),time.time()                   # Record the start time in terms of CPU and wall time\n",
        "  rfc = RandomForestClassifier(labelCol=\"binary_index\", featuresCol=\"features\") \n",
        "\n",
        "  # Instantiate the model \n",
        "  model_randForest=rfc.fit(train_list[i])                                         # Fit using the training set\n",
        "\n",
        "  # Print the CPU time, wall time and accuracy\n",
        "  cpuTime_stop, wallTime_stop = time.clock(),time.time()                     # Record the stop time in terms of CPU and wall time\n",
        "  cpuTime,wallTime = (cpuTime_stop - cpuTime_start), (wallTime_stop - wallTime_start)  # Calculate CPU & wall time for each iteration\n",
        "  print(\"Trial {} ->  Test pair {}\".format(i,test_label_list.collect()[i]),\"\\n\\t->  CPU Time: {:.2f} seconds,\".format(cpuTime),\n",
        "        \" Wall Time: {:.2f} seconds \\n\".format(wallTime))\n",
        "  \n",
        "  # Append the accuracy and time taken during each trial\n",
        "  model_rfc.append(model_randForest)\n",
        "  rfcTrain_cpuTime.append(cpuTime)\n",
        "  rfcTrain_wallTime.append(wallTime)"
      ],
      "execution_count": 0,
      "outputs": [
        {
          "output_type": "stream",
          "text": [
            "\u001b[1m \u001b[4m \u001b[94m Random Forest - Training phase \u001b[0m\n",
            "\n",
            "Trial 0 ->  Test pair ('fox', 'hamster') \n",
            "\t->  CPU Time: 0.07 seconds,  Wall Time: 352.84 seconds \n",
            "\n",
            "Trial 1 ->  Test pair ('fox', 'mouse') \n",
            "\t->  CPU Time: 0.06 seconds,  Wall Time: 351.14 seconds \n",
            "\n",
            "Trial 2 ->  Test pair ('fox', 'rabbit') \n",
            "\t->  CPU Time: 0.06 seconds,  Wall Time: 349.89 seconds \n",
            "\n",
            "Trial 3 ->  Test pair ('fox', 'shrew') \n",
            "\t->  CPU Time: 0.06 seconds,  Wall Time: 351.44 seconds \n",
            "\n",
            "Trial 4 ->  Test pair ('fox', 'squirrel') \n",
            "\t->  CPU Time: 0.06 seconds,  Wall Time: 350.21 seconds \n",
            "\n",
            "Trial 5 ->  Test pair ('porcupine', 'hamster') \n",
            "\t->  CPU Time: 0.06 seconds,  Wall Time: 348.54 seconds \n",
            "\n",
            "Trial 6 ->  Test pair ('porcupine', 'mouse') \n",
            "\t->  CPU Time: 0.06 seconds,  Wall Time: 350.82 seconds \n",
            "\n",
            "Trial 7 ->  Test pair ('porcupine', 'rabbit') \n",
            "\t->  CPU Time: 0.06 seconds,  Wall Time: 349.06 seconds \n",
            "\n",
            "Trial 8 ->  Test pair ('porcupine', 'shrew') \n",
            "\t->  CPU Time: 0.06 seconds,  Wall Time: 351.14 seconds \n",
            "\n",
            "Trial 9 ->  Test pair ('porcupine', 'squirrel') \n",
            "\t->  CPU Time: 0.06 seconds,  Wall Time: 349.60 seconds \n",
            "\n",
            "Trial 10 ->  Test pair ('possum', 'hamster') \n",
            "\t->  CPU Time: 0.06 seconds,  Wall Time: 350.56 seconds \n",
            "\n",
            "Trial 11 ->  Test pair ('possum', 'mouse') \n",
            "\t->  CPU Time: 0.06 seconds,  Wall Time: 351.61 seconds \n",
            "\n",
            "Trial 12 ->  Test pair ('possum', 'rabbit') \n",
            "\t->  CPU Time: 0.06 seconds,  Wall Time: 352.47 seconds \n",
            "\n",
            "Trial 13 ->  Test pair ('possum', 'shrew') \n",
            "\t->  CPU Time: 0.06 seconds,  Wall Time: 352.44 seconds \n",
            "\n",
            "Trial 14 ->  Test pair ('possum', 'squirrel') \n",
            "\t->  CPU Time: 0.06 seconds,  Wall Time: 350.67 seconds \n",
            "\n",
            "Trial 15 ->  Test pair ('raccoon', 'hamster') \n",
            "\t->  CPU Time: 0.06 seconds,  Wall Time: 352.69 seconds \n",
            "\n",
            "Trial 16 ->  Test pair ('raccoon', 'mouse') \n",
            "\t->  CPU Time: 0.06 seconds,  Wall Time: 352.42 seconds \n",
            "\n",
            "Trial 17 ->  Test pair ('raccoon', 'rabbit') \n",
            "\t->  CPU Time: 0.06 seconds,  Wall Time: 351.50 seconds \n",
            "\n",
            "Trial 18 ->  Test pair ('raccoon', 'shrew') \n",
            "\t->  CPU Time: 0.06 seconds,  Wall Time: 351.72 seconds \n",
            "\n",
            "Trial 19 ->  Test pair ('raccoon', 'squirrel') \n",
            "\t->  CPU Time: 0.06 seconds,  Wall Time: 350.79 seconds \n",
            "\n",
            "Trial 20 ->  Test pair ('skunk', 'hamster') \n",
            "\t->  CPU Time: 0.07 seconds,  Wall Time: 352.34 seconds \n",
            "\n",
            "Trial 21 ->  Test pair ('skunk', 'mouse') \n",
            "\t->  CPU Time: 0.06 seconds,  Wall Time: 352.17 seconds \n",
            "\n",
            "Trial 22 ->  Test pair ('skunk', 'rabbit') \n",
            "\t->  CPU Time: 0.06 seconds,  Wall Time: 352.23 seconds \n",
            "\n",
            "Trial 23 ->  Test pair ('skunk', 'shrew') \n",
            "\t->  CPU Time: 0.06 seconds,  Wall Time: 350.13 seconds \n",
            "\n",
            "Trial 24 ->  Test pair ('skunk', 'squirrel') \n",
            "\t->  CPU Time: 0.06 seconds,  Wall Time: 351.89 seconds \n",
            "\n",
            "CPU times: user 1.27 s, sys: 356 ms, total: 1.63 s\n",
            "Wall time: 2h 26min 22s\n"
          ],
          "name": "stdout"
        }
      ]
    },
    {
      "cell_type": "code",
      "metadata": {
        "colab_type": "code",
        "outputId": "ecf2abfa-12ff-481f-a96d-18b23e2a8b2d",
        "id": "mW3Bhz74RWfR",
        "colab": {
          "base_uri": "https://localhost:8080/",
          "height": 67
        }
      },
      "source": [
        "# Check the file type of items in the list\n",
        "%%time\n",
        "print (type(model_rfc[0]), type(rfcTrain_cpuTime[0]), type(rfcTrain_wallTime[0]))"
      ],
      "execution_count": 0,
      "outputs": [
        {
          "output_type": "stream",
          "text": [
            "<class 'pyspark.ml.classification.RandomForestClassificationModel'> <class 'float'> <class 'float'>\n",
            "CPU times: user 1.32 ms, sys: 65 µs, total: 1.39 ms\n",
            "Wall time: 1.06 ms\n"
          ],
          "name": "stdout"
        }
      ]
    },
    {
      "cell_type": "markdown",
      "metadata": {
        "colab_type": "text",
        "id": "UWCDF8WFRWfX"
      },
      "source": [
        "### **Testing phase - with time**"
      ]
    },
    {
      "cell_type": "code",
      "metadata": {
        "colab_type": "code",
        "outputId": "0dab79ca-c66c-4f9b-e7ef-801a9e544702",
        "id": "RUBZlIlsRWfY",
        "colab": {
          "base_uri": "https://localhost:8080/",
          "height": 1000
        }
      },
      "source": [
        "# Testing and scoring with Random Forest \n",
        "%%time\n",
        "print('\\033[1m \\033[4m \\033[94m {} \\033[0m\\n'.format('Random Forest - Testing phase')) # Title in blue underlined bold format \n",
        "\n",
        "# Create a 'for' loop to generate 25 trials\n",
        "for i in range(0,25):                                                       \n",
        "  cpuTime_start, wallTime_start = time.clock(),time.time()                                # Record the start time in terms of CPU and wall time\n",
        "  \n",
        "  # Prediction and scoring with the testing set\n",
        "  predict_rfc=model_rfc[i].transform(test_list[i])                         \n",
        "  eval=BinaryClassificationEvaluator(labelCol=\"binary_index\", rawPredictionCol= \"prediction\")     # Prediction score / accuracy\n",
        "  accuracy = (eval.evaluate(predict_rfc))*100                                                      # Get the percentage accuracy\n",
        "\n",
        "  # Print the CPU time, wall time and accuracy\n",
        "  cpuTime_stop, wallTime_stop = time.clock(),time.time()                                  # Record the stop time in terms of CPU and wall time\n",
        "  cpuTime,wallTime = (cpuTime_stop - cpuTime_start), (wallTime_stop - wallTime_start)     # Calculate CPU & wall time for each iteration\n",
        "  print(\"Trial {} ->  Accuracy with test pair {} is: {:.2f}%\".format(i,test_label_list.collect()[i], accuracy),\n",
        "        \"\\n\\t    CPU Time: {:.2f} seconds,\".format(cpuTime),\"\\tWall Time: {:.2f} seconds \\n\".format(wallTime)) # Print the Accuracy, CPU & Wall time\n",
        "\n",
        "  # Append the accuracy and time taken during each trial\n",
        "  rfc_accuracy.append(accuracy)                                               \n",
        "  rfcTest_cpuTime.append(cpuTime)\n",
        "  rfcTest_wallTime.append(wallTime)"
      ],
      "execution_count": 0,
      "outputs": [
        {
          "output_type": "stream",
          "text": [
            "\u001b[1m \u001b[4m \u001b[94m Random Forest - Testing phase \u001b[0m\n",
            "\n",
            "Trial 0 ->  Accuracy with test pair ('fox', 'hamster') is: 57.00% \n",
            "\t    CPU Time: 0.03 seconds, \tWall Time: 111.35 seconds \n",
            "\n",
            "Trial 1 ->  Accuracy with test pair ('fox', 'mouse') is: 50.58% \n",
            "\t    CPU Time: 0.03 seconds, \tWall Time: 110.83 seconds \n",
            "\n",
            "Trial 2 ->  Accuracy with test pair ('fox', 'rabbit') is: 48.83% \n",
            "\t    CPU Time: 0.03 seconds, \tWall Time: 111.43 seconds \n",
            "\n",
            "Trial 3 ->  Accuracy with test pair ('fox', 'shrew') is: 39.08% \n",
            "\t    CPU Time: 0.03 seconds, \tWall Time: 110.96 seconds \n",
            "\n",
            "Trial 4 ->  Accuracy with test pair ('fox', 'squirrel') is: 46.58% \n",
            "\t    CPU Time: 0.03 seconds, \tWall Time: 111.68 seconds \n",
            "\n",
            "Trial 5 ->  Accuracy with test pair ('porcupine', 'hamster') is: 65.92% \n",
            "\t    CPU Time: 0.03 seconds, \tWall Time: 111.81 seconds \n",
            "\n",
            "Trial 6 ->  Accuracy with test pair ('porcupine', 'mouse') is: 63.75% \n",
            "\t    CPU Time: 0.03 seconds, \tWall Time: 111.80 seconds \n",
            "\n",
            "Trial 7 ->  Accuracy with test pair ('porcupine', 'rabbit') is: 60.42% \n",
            "\t    CPU Time: 0.03 seconds, \tWall Time: 111.56 seconds \n",
            "\n",
            "Trial 8 ->  Accuracy with test pair ('porcupine', 'shrew') is: 53.42% \n",
            "\t    CPU Time: 0.03 seconds, \tWall Time: 110.55 seconds \n",
            "\n",
            "Trial 9 ->  Accuracy with test pair ('porcupine', 'squirrel') is: 58.17% \n",
            "\t    CPU Time: 0.03 seconds, \tWall Time: 110.89 seconds \n",
            "\n",
            "Trial 10 ->  Accuracy with test pair ('possum', 'hamster') is: 64.83% \n",
            "\t    CPU Time: 0.03 seconds, \tWall Time: 111.25 seconds \n",
            "\n",
            "Trial 11 ->  Accuracy with test pair ('possum', 'mouse') is: 60.58% \n",
            "\t    CPU Time: 0.03 seconds, \tWall Time: 111.20 seconds \n",
            "\n",
            "Trial 12 ->  Accuracy with test pair ('possum', 'rabbit') is: 57.33% \n",
            "\t    CPU Time: 0.02 seconds, \tWall Time: 110.75 seconds \n",
            "\n",
            "Trial 13 ->  Accuracy with test pair ('possum', 'shrew') is: 46.33% \n",
            "\t    CPU Time: 0.03 seconds, \tWall Time: 111.06 seconds \n",
            "\n",
            "Trial 14 ->  Accuracy with test pair ('possum', 'squirrel') is: 52.25% \n",
            "\t    CPU Time: 0.03 seconds, \tWall Time: 110.58 seconds \n",
            "\n",
            "Trial 15 ->  Accuracy with test pair ('raccoon', 'hamster') is: 60.67% \n",
            "\t    CPU Time: 0.03 seconds, \tWall Time: 111.07 seconds \n",
            "\n",
            "Trial 16 ->  Accuracy with test pair ('raccoon', 'mouse') is: 60.42% \n",
            "\t    CPU Time: 0.03 seconds, \tWall Time: 111.17 seconds \n",
            "\n",
            "Trial 17 ->  Accuracy with test pair ('raccoon', 'rabbit') is: 57.67% \n",
            "\t    CPU Time: 0.03 seconds, \tWall Time: 111.33 seconds \n",
            "\n",
            "Trial 18 ->  Accuracy with test pair ('raccoon', 'shrew') is: 51.58% \n",
            "\t    CPU Time: 0.03 seconds, \tWall Time: 110.32 seconds \n",
            "\n",
            "Trial 19 ->  Accuracy with test pair ('raccoon', 'squirrel') is: 57.92% \n",
            "\t    CPU Time: 0.03 seconds, \tWall Time: 111.65 seconds \n",
            "\n",
            "Trial 20 ->  Accuracy with test pair ('skunk', 'hamster') is: 64.75% \n",
            "\t    CPU Time: 0.03 seconds, \tWall Time: 111.07 seconds \n",
            "\n",
            "Trial 21 ->  Accuracy with test pair ('skunk', 'mouse') is: 65.83% \n",
            "\t    CPU Time: 0.02 seconds, \tWall Time: 110.18 seconds \n",
            "\n",
            "Trial 22 ->  Accuracy with test pair ('skunk', 'rabbit') is: 61.83% \n",
            "\t    CPU Time: 0.03 seconds, \tWall Time: 111.56 seconds \n",
            "\n",
            "Trial 23 ->  Accuracy with test pair ('skunk', 'shrew') is: 58.58% \n",
            "\t    CPU Time: 0.03 seconds, \tWall Time: 110.73 seconds \n",
            "\n",
            "Trial 24 ->  Accuracy with test pair ('skunk', 'squirrel') is: 58.00% \n",
            "\t    CPU Time: 0.03 seconds, \tWall Time: 111.14 seconds \n",
            "\n",
            "CPU times: user 623 ms, sys: 159 ms, total: 782 ms\n",
            "Wall time: 46min 19s\n"
          ],
          "name": "stdout"
        }
      ]
    },
    {
      "cell_type": "markdown",
      "metadata": {
        "colab_type": "text",
        "id": "kKhWlJeCRWfb"
      },
      "source": [
        "####**Model 1:** Statistical study - we are double-checking using ***Numpy as well as PySpark***"
      ]
    },
    {
      "cell_type": "markdown",
      "metadata": {
        "colab_type": "text",
        "id": "OQz4ZF6sRWfc"
      },
      "source": [
        "##### **Using Numpy**"
      ]
    },
    {
      "cell_type": "code",
      "metadata": {
        "colab_type": "code",
        "outputId": "1046a820-c7af-4acc-9a55-150801cf8c5d",
        "id": "ZYdQQBrgRWfc",
        "colab": {
          "base_uri": "https://localhost:8080/",
          "height": 284
        }
      },
      "source": [
        "# Print the basic statistics - using Numpy\n",
        "%%time\n",
        "basic_statistics(rfc_accuracy, test_label_list, rfcTrain_cpuTime, rfcTrain_wallTime,rfcTest_cpuTime, rfcTest_wallTime)"
      ],
      "execution_count": 0,
      "outputs": [
        {
          "output_type": "stream",
          "text": [
            "Average accuracy: 56.89%\n",
            "Average training CPU time: 0.06 seconds\n",
            "Average training Wall time: 351.21 minutes\n",
            "Average testing CPU time: 0.03 seconds\n",
            "Average testing Wall time: 111.12 minutes\n",
            "Minimum train CPU time - with test pair ('skunk', 'rabbit'): 0.06%\n",
            "Maximum train CPU time - with test pair ('skunk', 'hamster'): 0.07% \n",
            "\n",
            "Minimum test CPU time - with test pair ('skunk', 'mouse'): 0.02%\n",
            "Maximum test CPU time - with test pair ('raccoon', 'hamster'): 0.03% \n",
            "\n",
            "Therefore, the test pair with the best accuracy of 65.92% is ('porcupine', 'hamster')\n",
            "and the test pair with the worst accuracy of 39.08% is ('fox', 'shrew') \n",
            "\n",
            "CPU times: user 18.5 ms, sys: 4.88 ms, total: 23.3 ms\n",
            "Wall time: 400 ms\n"
          ],
          "name": "stdout"
        }
      ]
    },
    {
      "cell_type": "code",
      "metadata": {
        "colab_type": "code",
        "outputId": "644d38d4-28c2-49de-fb9e-d0fc6e8b0d93",
        "id": "YTZ8fF5ERWff",
        "colab": {
          "base_uri": "https://localhost:8080/",
          "height": 234
        }
      },
      "source": [
        "# Check Statistics pertaining to Accuracy\n",
        "%%time\n",
        "accuracy_statistics(rfc_accuracy, test_label_list)"
      ],
      "execution_count": 0,
      "outputs": [
        {
          "output_type": "stream",
          "text": [
            "Statistics for the accuracy of the 25 trials ->         \n",
            "\n",
            "Mean Accuracy: 56.89%\n",
            "Standard deviation: 6.69%\n",
            "25% (1st quantile) accuracy: 52.25%\n",
            "50% (median or 2nd quantile) accuracy: 58.00%\n",
            "75% (3rd quantile) accuracy: 60.67%\n",
            "\n",
            "Minimum Accuracy - with worst-performing test pair ('fox', 'shrew'): 39.08%\n",
            "Maximum accuracy - with the best-performing test pair ('porcupine', 'hamster'): 65.92% \n",
            "\n",
            "CPU times: user 8.37 ms, sys: 2.58 ms, total: 11 ms\n",
            "Wall time: 153 ms\n"
          ],
          "name": "stdout"
        }
      ]
    },
    {
      "cell_type": "markdown",
      "metadata": {
        "colab_type": "text",
        "id": "RY3petT87qW7"
      },
      "source": [
        "##### **Using PySpark**"
      ]
    },
    {
      "cell_type": "code",
      "metadata": {
        "colab_type": "code",
        "outputId": "107ad47d-060d-4a84-f4c8-1683d56a0cb9",
        "id": "Tqc-ku267qXB",
        "colab": {
          "base_uri": "https://localhost:8080/",
          "height": 552
        }
      },
      "source": [
        "# Convert the RDD with test labels into dataframe\n",
        "%%time\n",
        "df = test_label_list.toDF(['Medium mammal', 'Small mammal'])\n",
        "df.show(25)"
      ],
      "execution_count": 0,
      "outputs": [
        {
          "output_type": "stream",
          "text": [
            "+-------------+------------+\n",
            "|Medium mammal|Small mammal|\n",
            "+-------------+------------+\n",
            "|          fox|     hamster|\n",
            "|          fox|       mouse|\n",
            "|          fox|      rabbit|\n",
            "|          fox|       shrew|\n",
            "|          fox|    squirrel|\n",
            "|    porcupine|     hamster|\n",
            "|    porcupine|       mouse|\n",
            "|    porcupine|      rabbit|\n",
            "|    porcupine|       shrew|\n",
            "|    porcupine|    squirrel|\n",
            "|       possum|     hamster|\n",
            "|       possum|       mouse|\n",
            "|       possum|      rabbit|\n",
            "|       possum|       shrew|\n",
            "|       possum|    squirrel|\n",
            "|      raccoon|     hamster|\n",
            "|      raccoon|       mouse|\n",
            "|      raccoon|      rabbit|\n",
            "|      raccoon|       shrew|\n",
            "|      raccoon|    squirrel|\n",
            "|        skunk|     hamster|\n",
            "|        skunk|       mouse|\n",
            "|        skunk|      rabbit|\n",
            "|        skunk|       shrew|\n",
            "|        skunk|    squirrel|\n",
            "+-------------+------------+\n",
            "\n",
            "CPU times: user 24.5 ms, sys: 7.62 ms, total: 32.1 ms\n",
            "Wall time: 1.71 s\n"
          ],
          "name": "stdout"
        }
      ]
    },
    {
      "cell_type": "code",
      "metadata": {
        "colab_type": "code",
        "outputId": "5d160370-0956-47fa-d40e-11d3b1848cc0",
        "id": "tOuk9j1L7qXO",
        "colab": {
          "base_uri": "https://localhost:8080/",
          "height": 67
        }
      },
      "source": [
        "# Check length to avoid extra rows from possible re-execution\n",
        "%%time\n",
        "print (len(rfc_accuracy), len(rfcTrain_cpuTime),len(rfcTrain_wallTime),len(rfcTest_cpuTime), len(rfcTest_wallTime))"
      ],
      "execution_count": 0,
      "outputs": [
        {
          "output_type": "stream",
          "text": [
            "25 25 25 25 25\n",
            "CPU times: user 0 ns, sys: 1.11 ms, total: 1.11 ms\n",
            "Wall time: 1.02 ms\n"
          ],
          "name": "stdout"
        }
      ]
    },
    {
      "cell_type": "code",
      "metadata": {
        "colab_type": "code",
        "outputId": "847a5bc6-4259-4cb8-a89f-403ed3ed6a6b",
        "id": "icIkGaw67qXS",
        "colab": {
          "base_uri": "https://localhost:8080/",
          "height": 50
        }
      },
      "source": [
        "# Create a dataframe with Accuracy and time\n",
        "%%time\n",
        "new_df1 = spark.createDataFrame(zip(rfcTrain_cpuTime, rfcTrain_wallTime,rfcTest_cpuTime,rfcTest_wallTime, rfc_accuracy),\\\n",
        "                                schema=['Train CPU time','Train Wall time','Test CPU time','Test Wall time','Accuracy'])\n"
      ],
      "execution_count": 0,
      "outputs": [
        {
          "output_type": "stream",
          "text": [
            "CPU times: user 8.44 ms, sys: 645 µs, total: 9.09 ms\n",
            "Wall time: 29.3 ms\n"
          ],
          "name": "stdout"
        }
      ]
    },
    {
      "cell_type": "code",
      "metadata": {
        "colab_type": "code",
        "outputId": "6b091ae2-e430-4256-ad1f-ff287cc4ded6",
        "id": "W3jqtJv1PdLw",
        "colab": {
          "base_uri": "https://localhost:8080/",
          "height": 50
        }
      },
      "source": [
        "# Join the 2 dataframes horizontally by creating a temporary index\n",
        "%%time\n",
        "from pyspark.sql.types import StructType, StructField, LongType\n",
        "\n",
        "# Define a function to add index\n",
        "def with_column_index(sdf): \n",
        "    new_schema = StructType(sdf.schema.fields + [StructField(\"ColumnIndex\", LongType(), False),])\n",
        "    return sdf.rdd.zipWithIndex().map(lambda row: row[0] + (row[1],)).toDF(schema=new_schema)\n",
        "\n",
        "# Add index, merge based on index using join function and subsquently delete the column\n",
        "df1_withInd1 = with_column_index(df)                            # Call the function\n",
        "df2_withInd1 = with_column_index(new_df1)\n",
        "RForest_DF1 = df1_withInd1.join(df2_withInd1, df1_withInd1.ColumnIndex == df2_withInd1.ColumnIndex, 'inner').drop(\"ColumnIndex\")"
      ],
      "execution_count": 0,
      "outputs": [
        {
          "output_type": "stream",
          "text": [
            "CPU times: user 30.3 ms, sys: 7.72 ms, total: 38 ms\n",
            "Wall time: 1.76 s\n"
          ],
          "name": "stdout"
        }
      ]
    },
    {
      "cell_type": "code",
      "metadata": {
        "id": "P1BcNOt7I7YV",
        "colab_type": "code",
        "outputId": "5f9f4fe7-30bc-4adc-ab5d-b71489786dc3",
        "colab": {
          "base_uri": "https://localhost:8080/",
          "height": 552
        }
      },
      "source": [
        "# Round the numbers using round funtion from SQL functions and use alias to rename.\n",
        "%%time\n",
        "RForest_DF=RForest_DF1.select('Medium mammal','Small mammal',f.round(RForest_DF1[\"Train CPU time\"],4).alias(\"Train CPU time\"),\n",
        "                              f.round(RForest_DF1[\"Train Wall time\"],4).alias(\"Train Wall time\"), \n",
        "                              f.round(RForest_DF1[\"Test CPU time\"],4).alias(\"Test CPU time\"),\n",
        "                              f.round(RForest_DF1[\"Test Wall time\"],4).alias(\"Test Wall time\"),\n",
        "                              f.round(RForest_DF1[\"Accuracy\"],2).alias(\"Accuracy\"))\n",
        "\n",
        "# Use orderBy to print the highest accuracy first, in descending order\n",
        "RForest_DF = RForest_DF.orderBy(desc('Accuracy'))\n",
        "RForest_DF.show(25)                      \n",
        "type(RForest_DF)"
      ],
      "execution_count": 0,
      "outputs": [
        {
          "output_type": "stream",
          "text": [
            "+-------------+------------+--------------+---------------+-------------+--------------+--------+\n",
            "|Medium mammal|Small mammal|Train CPU time|Train Wall time|Test CPU time|Test Wall time|Accuracy|\n",
            "+-------------+------------+--------------+---------------+-------------+--------------+--------+\n",
            "|    porcupine|     hamster|        0.0601|       348.5363|       0.0292|      111.8085|   65.92|\n",
            "|        skunk|       mouse|        0.0575|       352.1709|       0.0243|        110.18|   65.83|\n",
            "|       possum|     hamster|        0.0613|       350.5619|       0.0313|      111.2548|   64.83|\n",
            "|        skunk|     hamster|        0.0658|       352.3397|       0.0252|      111.0745|   64.75|\n",
            "|    porcupine|       mouse|        0.0598|       350.8247|        0.026|      111.8029|   63.75|\n",
            "|        skunk|      rabbit|        0.0572|       352.2312|       0.0284|      111.5586|   61.83|\n",
            "|      raccoon|     hamster|        0.0611|       352.6883|       0.0322|       111.068|   60.67|\n",
            "|       possum|       mouse|        0.0643|       351.6102|       0.0266|      111.1975|   60.58|\n",
            "|    porcupine|      rabbit|        0.0636|       349.0614|       0.0311|      111.5615|   60.42|\n",
            "|      raccoon|       mouse|        0.0649|       352.4225|       0.0262|      111.1692|   60.42|\n",
            "|        skunk|       shrew|         0.059|       350.1284|       0.0267|      110.7335|   58.58|\n",
            "|    porcupine|    squirrel|        0.0622|       349.5987|       0.0265|      110.8926|   58.17|\n",
            "|        skunk|    squirrel|        0.0594|       351.8873|       0.0315|      111.1407|    58.0|\n",
            "|      raccoon|    squirrel|         0.065|       350.7865|       0.0297|      111.6536|   57.92|\n",
            "|      raccoon|      rabbit|        0.0639|       351.4989|       0.0288|      111.3263|   57.67|\n",
            "|       possum|      rabbit|        0.0623|       352.4661|       0.0245|      110.7457|   57.33|\n",
            "|          fox|     hamster|        0.0658|        352.837|       0.0321|      111.3507|    57.0|\n",
            "|    porcupine|       shrew|        0.0632|        351.141|       0.0264|      110.5546|   53.42|\n",
            "|       possum|    squirrel|        0.0589|       350.6715|         0.03|      110.5786|   52.25|\n",
            "|      raccoon|       shrew|        0.0608|       351.7198|        0.027|      110.3217|   51.58|\n",
            "|          fox|       mouse|        0.0629|       351.1366|       0.0272|      110.8334|   50.58|\n",
            "|          fox|      rabbit|        0.0584|       349.8924|       0.0272|      111.4279|   48.83|\n",
            "|          fox|    squirrel|        0.0596|       350.2131|       0.0299|      111.6767|   46.58|\n",
            "|       possum|       shrew|        0.0616|       352.4434|       0.0256|      111.0593|   46.33|\n",
            "|          fox|       shrew|        0.0646|       351.4414|       0.0257|       110.955|   39.08|\n",
            "+-------------+------------+--------------+---------------+-------------+--------------+--------+\n",
            "\n",
            "CPU times: user 26.1 ms, sys: 7.91 ms, total: 34 ms\n",
            "Wall time: 2.57 s\n"
          ],
          "name": "stdout"
        }
      ]
    },
    {
      "cell_type": "code",
      "metadata": {
        "colab_type": "code",
        "outputId": "95acddc9-5657-4d28-9070-d95ea61624db",
        "id": "Q0ZP2mZsPdL2",
        "colab": {
          "base_uri": "https://localhost:8080/",
          "height": 217
        }
      },
      "source": [
        "# Check statistical features of the dataset using describe\n",
        "%%time\n",
        "RForest_DF.select('Accuracy','Train CPU time','Train Wall time','Test CPU time','Test Wall time')\\\n",
        ".describe().show()"
      ],
      "execution_count": 0,
      "outputs": [
        {
          "output_type": "stream",
          "text": [
            "+-------+-----------------+--------------------+------------------+--------------------+-------------------+\n",
            "|summary|         Accuracy|      Train CPU time|   Train Wall time|       Test CPU time|     Test Wall time|\n",
            "+-------+-----------------+--------------------+------------------+--------------------+-------------------+\n",
            "|  count|               25|                  25|                25|                  25|                 25|\n",
            "|   mean|56.89279999999999|            0.061728| 351.2123679999999| 0.02797200000000001| 111.11703199999998|\n",
            "| stddev|6.830479192560363|0.002612234037498682|1.1720518268262152|0.002438667669035697|0.44405340868713855|\n",
            "|    min|            39.08|              0.0572|          348.5363|              0.0243|             110.18|\n",
            "|    max|            65.92|              0.0658|           352.837|              0.0322|           111.8085|\n",
            "+-------+-----------------+--------------------+------------------+--------------------+-------------------+\n",
            "\n",
            "CPU times: user 40.2 ms, sys: 21.6 ms, total: 61.8 ms\n",
            "Wall time: 4.25 s\n"
          ],
          "name": "stdout"
        }
      ]
    },
    {
      "cell_type": "markdown",
      "metadata": {
        "id": "AigHZ-f9YWYR",
        "colab_type": "text"
      },
      "source": [
        "#####**Note:** Below value will be slightly lesser than the result from %%time as we excluded print statements, loops and appends."
      ]
    },
    {
      "cell_type": "code",
      "metadata": {
        "id": "jGxEyDX8YD1k",
        "colab_type": "code",
        "outputId": "89c08e87-a412-41e1-a33c-a463d0d619e7",
        "colab": {
          "base_uri": "https://localhost:8080/",
          "height": 150
        }
      },
      "source": [
        "# Check the total time (solely training and testing time, excluding loops, appends and print statements)\n",
        "%%time\n",
        "RF_sum = RForest_DF.select(f.sum(\"Train CPU time\"), f.sum(\"Train Wall time\"), f.sum(\"Test CPU time\"), f.sum(\"Test Wall time\"))\n",
        "RF_sum.show()"
      ],
      "execution_count": 0,
      "outputs": [
        {
          "output_type": "stream",
          "text": [
            "+-------------------+--------------------+------------------+-------------------+\n",
            "|sum(Train CPU time)|sum(Train Wall time)|sum(Test CPU time)|sum(Test Wall time)|\n",
            "+-------------------+--------------------+------------------+-------------------+\n",
            "|             1.5432|   8780.309199999998|0.6993000000000003| 2777.9257999999995|\n",
            "+-------------------+--------------------+------------------+-------------------+\n",
            "\n",
            "CPU times: user 32.1 ms, sys: 22.3 ms, total: 54.3 ms\n",
            "Wall time: 3.41 s\n"
          ],
          "name": "stdout"
        }
      ]
    },
    {
      "cell_type": "code",
      "metadata": {
        "colab_type": "code",
        "outputId": "db05912a-0eac-4070-f8ae-1b35ca25cf3f",
        "id": "bUo18QAMPdL4",
        "colab": {
          "base_uri": "https://localhost:8080/",
          "height": 67
        }
      },
      "source": [
        "# Method to find quantiles in Pyspark\n",
        "%%time\n",
        "new = RForest_DF.approxQuantile(\"Accuracy\", [0.25, 0.5, 0.75], 0)\n",
        "print(\"Quantiles -> [Q1/25%, Q2/50%/Median,  Q3/75%]:\", new)\n"
      ],
      "execution_count": 0,
      "outputs": [
        {
          "output_type": "stream",
          "text": [
            "Quantiles -> [Q1/25%, Q2/50%/Median,  Q3/75%]: [52.25, 58.0, 60.67]\n",
            "CPU times: user 51.9 ms, sys: 9.94 ms, total: 61.9 ms\n",
            "Wall time: 3.48 s\n"
          ],
          "name": "stdout"
        }
      ]
    },
    {
      "cell_type": "markdown",
      "metadata": {
        "colab_type": "text",
        "id": "Sl90KL8pPdL6"
      },
      "source": [
        "**As expected, the statistics generated by Numpy and PySpark are exactly same.**\n",
        "##### Grid with pair-wise results"
      ]
    },
    {
      "cell_type": "code",
      "metadata": {
        "colab_type": "code",
        "outputId": "6b410cbb-fdf8-4a32-c1e7-5c115836020b",
        "id": "6Yrz8Sjv_YL_",
        "colab": {
          "base_uri": "https://localhost:8080/",
          "height": 237
        }
      },
      "source": [
        "# Merge all results using groupby, pivot and aggregate function\n",
        "%%time\n",
        "RForest_all=RForest_DF.groupBy(\"Small mammal\").pivot(\"Medium mammal\").agg(f.first(\"Accuracy\").alias('(Accuracy)'),  \n",
        "                                                                     f.first(\"Train CPU Time\").alias('(Train CPU Time)'),\n",
        "                                                                     f.first(\"Test CPU Time\").alias('(Test CPU Time)'))   \n",
        "RForest_all.withColumnRenamed(\"Small mammal\",\"Small/Medium\").show()                          # Rename column name"
      ],
      "execution_count": 0,
      "outputs": [
        {
          "output_type": "stream",
          "text": [
            "+------------+--------------+--------------------+-------------------+--------------------+--------------------------+-------------------------+-----------------+-----------------------+----------------------+------------------+------------------------+-----------------------+----------------+----------------------+---------------------+\n",
            "|Small/Medium|fox_(Accuracy)|fox_(Train CPU Time)|fox_(Test CPU Time)|porcupine_(Accuracy)|porcupine_(Train CPU Time)|porcupine_(Test CPU Time)|possum_(Accuracy)|possum_(Train CPU Time)|possum_(Test CPU Time)|raccoon_(Accuracy)|raccoon_(Train CPU Time)|raccoon_(Test CPU Time)|skunk_(Accuracy)|skunk_(Train CPU Time)|skunk_(Test CPU Time)|\n",
            "+------------+--------------+--------------------+-------------------+--------------------+--------------------------+-------------------------+-----------------+-----------------------+----------------------+------------------+------------------------+-----------------------+----------------+----------------------+---------------------+\n",
            "|    squirrel|         46.58|              0.0596|             0.0299|               58.17|                    0.0622|                   0.0265|            52.25|                 0.0589|                  0.03|             57.92|                   0.065|                 0.0297|            58.0|                0.0594|               0.0315|\n",
            "|       shrew|         39.08|              0.0646|             0.0257|               53.42|                    0.0632|                   0.0264|            46.33|                 0.0616|                0.0256|             51.58|                  0.0608|                  0.027|           58.58|                 0.059|               0.0267|\n",
            "|     hamster|          57.0|              0.0658|             0.0321|               65.92|                    0.0601|                   0.0292|            64.83|                 0.0613|                0.0313|             60.67|                  0.0611|                 0.0322|           64.75|                0.0658|               0.0252|\n",
            "|      rabbit|         48.83|              0.0584|             0.0272|               60.42|                    0.0636|                   0.0311|            57.33|                 0.0623|                0.0245|             57.67|                  0.0639|                 0.0288|           61.83|                0.0572|               0.0284|\n",
            "|       mouse|         50.58|              0.0629|             0.0272|               63.75|                    0.0598|                    0.026|            60.58|                 0.0643|                0.0266|             60.42|                  0.0649|                 0.0262|           65.83|                0.0575|               0.0243|\n",
            "+------------+--------------+--------------------+-------------------+--------------------+--------------------------+-------------------------+-----------------+-----------------------+----------------------+------------------+------------------------+-----------------------+----------------+----------------------+---------------------+\n",
            "\n",
            "CPU times: user 112 ms, sys: 43.5 ms, total: 155 ms\n",
            "Wall time: 9.03 s\n"
          ],
          "name": "stdout"
        }
      ]
    },
    {
      "cell_type": "code",
      "metadata": {
        "colab_type": "code",
        "outputId": "615de762-5860-40a5-a069-2654632e5ef9",
        "id": "seXGaAYw_YMB",
        "colab": {
          "base_uri": "https://localhost:8080/",
          "height": 217
        }
      },
      "source": [
        "# Create a 5*5 grid\n",
        "%%time\n",
        "RForest_grid=RForest_DF.groupBy(\"Small mammal\").pivot(\"Medium mammal\").agg(f.first(\"Accuracy\")) # Use groupBy, Pivot and aggregate to create a grid\n",
        "RForest_grid.withColumnRenamed(\"Small mammal\",\"Small/Medium\").show()                          # Rename column name"
      ],
      "execution_count": 0,
      "outputs": [
        {
          "output_type": "stream",
          "text": [
            "+------------+-----+---------+------+-------+-----+\n",
            "|Small/Medium|  fox|porcupine|possum|raccoon|skunk|\n",
            "+------------+-----+---------+------+-------+-----+\n",
            "|    squirrel|46.58|    58.17| 52.25|  57.92| 58.0|\n",
            "|       shrew|39.08|    53.42| 46.33|  51.58|58.58|\n",
            "|     hamster| 57.0|    65.92| 64.83|  60.67|64.75|\n",
            "|      rabbit|48.83|    60.42| 57.33|  57.67|61.83|\n",
            "|       mouse|50.58|    63.75| 60.58|  60.42|65.83|\n",
            "+------------+-----+---------+------+-------+-----+\n",
            "\n",
            "CPU times: user 113 ms, sys: 44.2 ms, total: 157 ms\n",
            "Wall time: 8.82 s\n"
          ],
          "name": "stdout"
        }
      ]
    },
    {
      "cell_type": "markdown",
      "metadata": {
        "id": "_TI9UEUh_GcJ",
        "colab_type": "text"
      },
      "source": [
        "##**Hyper-parameter tuning for the best pair** \n",
        "\n",
        "Additional experiment - As an additional experiment, we performed the hyperparameter tuning to check if the best pair (skunk,mouse) from logistic regression can improve its lower results with random forest. \n",
        "Although results looked promising for Logistic Regression, Random forest had a lower accuracy. Hence, we are tweaking its hyperparameters to improve its accuracy for random forest using a parameter grid and cross-validation. Further, we want to know if the accuracy will be comparable once the task is completed.\n",
        "\n",
        "Steps are as follows:\n",
        "* **Create a pipeline** - With PCA in the pipeline stage, accuracy dropped by 10 points. We did try with PCA and labelIndexer along with the algorithm but it kept executing for hours without a result. Finally, we ended up executing with a single stage, although it defeats the purpose of a pipeline. Now we know it can run with a single stage.\n",
        "* **Create a parameter grid** - The two parameter used are MaxDepth and NumTrees. We tested with 5-6 values which are generally advisable. 30 is the limit for MaxDepth in pyspark although it is 32 in Scikit-learn. With more parameters, the colab kept crashing.\n",
        "* **Perform Cross-validation** - We used cross-validation with 3 folds. Are under ROC curve was the metric for optimization.\n",
        "\n",
        "As a result, 2% increase in accuracy was observed."
      ]
    },
    {
      "cell_type": "code",
      "metadata": {
        "id": "7pI8aXeuIpMZ",
        "colab_type": "code",
        "outputId": "29c358e2-5768-453b-a336-5a63c6fd5e83",
        "colab": {
          "base_uri": "https://localhost:8080/",
          "height": 167
        }
      },
      "source": [
        "# Find the index of the best performing pair\n",
        "%%time\n",
        "# ind_max=np.argmax(lr_accuracy)\n",
        "# Largest = LogregDF.agg(f.max('Accuracy'))\n",
        "# Largest.show()\n",
        "\n",
        "LogregDF.orderBy(desc('Accuracy')).show(1)"
      ],
      "execution_count": 0,
      "outputs": [
        {
          "output_type": "stream",
          "text": [
            "+-------------+------------+--------------+---------------+-------------+--------------+--------+\n",
            "|Medium mammal|Small mammal|Train CPU time|Train Wall time|Test CPU time|Test Wall time|Accuracy|\n",
            "+-------------+------------+--------------+---------------+-------------+--------------+--------+\n",
            "|        skunk|       mouse|        0.0486|       111.8481|       0.0291|      102.7486|   72.17|\n",
            "+-------------+------------+--------------+---------------+-------------+--------------+--------+\n",
            "only showing top 1 row\n",
            "\n",
            "CPU times: user 25.8 ms, sys: 8.36 ms, total: 34.2 ms\n",
            "Wall time: 2.61 s\n"
          ],
          "name": "stdout"
        }
      ]
    },
    {
      "cell_type": "code",
      "metadata": {
        "id": "zj4Fuf6LpU6P",
        "colab_type": "code",
        "outputId": "90a2582c-c9e2-47b3-961c-acf38b2e067c",
        "colab": {
          "base_uri": "https://localhost:8080/",
          "height": 322
        }
      },
      "source": [
        "# Check the default parameter map\n",
        "model_rfc[0].extractParamMap()"
      ],
      "execution_count": 0,
      "outputs": [
        {
          "output_type": "execute_result",
          "data": {
            "text/plain": [
              "{Param(parent='RandomForestClassifier_09a79c2346ad', name='cacheNodeIds', doc='If false, the algorithm will pass trees to executors to match instances with nodes. If true, the algorithm will cache node IDs for each instance. Caching can speed up training of deeper trees.'): False,\n",
              " Param(parent='RandomForestClassifier_09a79c2346ad', name='checkpointInterval', doc='set checkpoint interval (>= 1) or disable checkpoint (-1). E.g. 10 means that the cache will get checkpointed every 10 iterations. Note: this setting will be ignored if the checkpoint directory is not set in the SparkContext'): 10,\n",
              " Param(parent='RandomForestClassifier_09a79c2346ad', name='featureSubsetStrategy', doc='The number of features to consider for splits at each tree node. Supported options: auto, all, onethird, sqrt, log2, (0.0-1.0], [1-n].'): 'auto',\n",
              " Param(parent='RandomForestClassifier_09a79c2346ad', name='featuresCol', doc='features column name'): 'features',\n",
              " Param(parent='RandomForestClassifier_09a79c2346ad', name='impurity', doc='Criterion used for information gain calculation (case-insensitive). Supported options: entropy, gini'): 'gini',\n",
              " Param(parent='RandomForestClassifier_09a79c2346ad', name='labelCol', doc='label column name'): 'binary_index',\n",
              " Param(parent='RandomForestClassifier_09a79c2346ad', name='maxBins', doc='Max number of bins for discretizing continuous features.  Must be >=2 and >= number of categories for any categorical feature.'): 32,\n",
              " Param(parent='RandomForestClassifier_09a79c2346ad', name='maxDepth', doc='Maximum depth of the tree. (>= 0) E.g., depth 0 means 1 leaf node; depth 1 means 1 internal node + 2 leaf nodes.'): 5,\n",
              " Param(parent='RandomForestClassifier_09a79c2346ad', name='maxMemoryInMB', doc='Maximum memory in MB allocated to histogram aggregation.'): 256,\n",
              " Param(parent='RandomForestClassifier_09a79c2346ad', name='minInfoGain', doc='Minimum information gain for a split to be considered at a tree node.'): 0.0,\n",
              " Param(parent='RandomForestClassifier_09a79c2346ad', name='minInstancesPerNode', doc='Minimum number of instances each child must have after split.  If a split causes the left or right child to have fewer than minInstancesPerNode, the split will be discarded as invalid. Should be >= 1.'): 1,\n",
              " Param(parent='RandomForestClassifier_09a79c2346ad', name='numTrees', doc='Number of trees to train (>= 1)'): 20,\n",
              " Param(parent='RandomForestClassifier_09a79c2346ad', name='predictionCol', doc='prediction column name'): 'prediction',\n",
              " Param(parent='RandomForestClassifier_09a79c2346ad', name='probabilityCol', doc='Column name for predicted class conditional probabilities. Note: Not all models output well-calibrated probability estimates! These probabilities should be treated as confidences, not precise probabilities'): 'probability',\n",
              " Param(parent='RandomForestClassifier_09a79c2346ad', name='rawPredictionCol', doc='raw prediction (a.k.a. confidence) column name'): 'rawPrediction',\n",
              " Param(parent='RandomForestClassifier_09a79c2346ad', name='seed', doc='random seed'): -110140864341450282,\n",
              " Param(parent='RandomForestClassifier_09a79c2346ad', name='subsamplingRate', doc='Fraction of the training data used for learning each decision tree, in range (0, 1].'): 1.0}"
            ]
          },
          "metadata": {
            "tags": []
          },
          "execution_count": 60
        }
      ]
    },
    {
      "cell_type": "code",
      "metadata": {
        "id": "vzdczobW1Jf9",
        "colab_type": "code",
        "outputId": "961f077a-e6ad-40c5-d608-071e0f4b7f63",
        "colab": {
          "base_uri": "https://localhost:8080/",
          "height": 171
        }
      },
      "source": [
        "# Pipeline, parameter grid, cross-validation and scoring\n",
        "%%time\n",
        "for i in range(21,22):\n",
        "  \"\"\" Can include pca and Label indexer for converting coarse label into a binary label, and choosing \n",
        "  principal features. Below is the code. We are excluding this as it is time-consuming and colab\n",
        "  gets stuck. Further, PCA decreased accuracy in few trials from 66% to 55%.\n",
        "  labelIndexer = StringIndexer(inputCol=\"coarse\", outputCol=\"binary\").fit(train_list[i])\n",
        "  pca = PCA(k=3, inputCol=\"features\", outputCol=\"pcaFeatures\").fit(train_list[i])\n",
        "  logreg = LogisticRegression(labelCol=\"binary\", featuresCol=\"featpcaFeaturesures\",maxIter=10)\n",
        "  pipeline_cv1 = Pipeline(stages = [pca, labelIndexer,logreg])                \n",
        "  \"\"\"\n",
        "  \n",
        "  # Instantiate the model\n",
        "  rfc = RandomForestClassifier(labelCol=\"binary_index\", featuresCol=\"features\")\n",
        "\n",
        "  # Create a pipeline\n",
        "  pipeline_cv2 = Pipeline(stages = [rfc])           # Experimenting with a single stage\n",
        "\n",
        "  # Create a parameter grid\n",
        "  paramGrid = ParamGridBuilder().addGrid(rfc.numTrees, [10,20,50,70,100,150]).addGrid(rfc.maxDepth,[1,5,10,20,30]).build() \n",
        "\n",
        "  # Perform cross-validation\n",
        "  crossval = CrossValidator(estimator = pipeline_cv2,\n",
        "                            estimatorParamMaps=paramGrid,\n",
        "                            evaluator = BCE(labelCol = \"binary_index\",\\\n",
        "                                            rawPredictionCol = \"prediction\",\\\n",
        "                                            metricName = \"areaUnderROC\"),\n",
        "                            numFolds= 3)\n",
        "  \n",
        "  # Fit and predict using the model\n",
        "  cv_model2 = crossval.fit(train_list[i])\n",
        "  predictions = cv_model2.transform(test_list[i])\n",
        "\n",
        "  # Print the prediction score / accuracy\n",
        "  evaluator=BinaryClassificationEvaluator(labelCol=\"binary_index\", rawPredictionCol= \"prediction\")\n",
        "  accuracy = evaluator.evaluate(predictions)\n",
        "  print (\"Accuracy with test pair {} is: {:.2f}%\".format(test_label_list.collect()[i],accuracy*100)) \n",
        "\n",
        "  # Print the best parameters\n",
        "  rfModel = cv_model2.bestModel.stages[0]\n",
        "  best_numTrees = rfModel.getNumTrees\n",
        "  best_MaxDepth = rfModel._java_obj.getMaxDepth()\n",
        "  rfc_params = rfModel.extractParamMap()\n",
        "  print (\"\\nBest result has numTrees:\", best_numTrees,\n",
        "         \"\\nBest result for MaxDepth:\", best_MaxDepth,\n",
        "         '\\nParameter map for the model is printed below.\\n',rfc_params)"
      ],
      "execution_count": 0,
      "outputs": [
        {
          "output_type": "stream",
          "text": [
            "Accuracy with test pair ('skunk', 'mouse') is: 67.58%\n",
            "\n",
            "Best result has numTrees: 150 \n",
            "Best result for MaxDepth: 30 \n",
            "Parameter map for the model is printed below.\n",
            " {Param(parent='RandomForestClassifier_a751991dffc0', name='cacheNodeIds', doc='If false, the algorithm will pass trees to executors to match instances with nodes. If true, the algorithm will cache node IDs for each instance. Caching can speed up training of deeper trees.'): False, Param(parent='RandomForestClassifier_a751991dffc0', name='checkpointInterval', doc='set checkpoint interval (>= 1) or disable checkpoint (-1). E.g. 10 means that the cache will get checkpointed every 10 iterations. Note: this setting will be ignored if the checkpoint directory is not set in the SparkContext'): 10, Param(parent='RandomForestClassifier_a751991dffc0', name='featureSubsetStrategy', doc='The number of features to consider for splits at each tree node. Supported options: auto, all, onethird, sqrt, log2, (0.0-1.0], [1-n].'): 'auto', Param(parent='RandomForestClassifier_a751991dffc0', name='featuresCol', doc='features column name'): 'features', Param(parent='RandomForestClassifier_a751991dffc0', name='impurity', doc='Criterion used for information gain calculation (case-insensitive). Supported options: entropy, gini'): 'gini', Param(parent='RandomForestClassifier_a751991dffc0', name='labelCol', doc='label column name'): 'binary_index', Param(parent='RandomForestClassifier_a751991dffc0', name='maxBins', doc='Max number of bins for discretizing continuous features.  Must be >=2 and >= number of categories for any categorical feature.'): 32, Param(parent='RandomForestClassifier_a751991dffc0', name='maxDepth', doc='Maximum depth of the tree. (>= 0) E.g., depth 0 means 1 leaf node; depth 1 means 1 internal node + 2 leaf nodes.'): 30, Param(parent='RandomForestClassifier_a751991dffc0', name='maxMemoryInMB', doc='Maximum memory in MB allocated to histogram aggregation.'): 256, Param(parent='RandomForestClassifier_a751991dffc0', name='minInfoGain', doc='Minimum information gain for a split to be considered at a tree node.'): 0.0, Param(parent='RandomForestClassifier_a751991dffc0', name='minInstancesPerNode', doc='Minimum number of instances each child must have after split.  If a split causes the left or right child to have fewer than minInstancesPerNode, the split will be discarded as invalid. Should be >= 1.'): 1, Param(parent='RandomForestClassifier_a751991dffc0', name='numTrees', doc='Number of trees to train (>= 1)'): 150, Param(parent='RandomForestClassifier_a751991dffc0', name='predictionCol', doc='prediction column name'): 'prediction', Param(parent='RandomForestClassifier_a751991dffc0', name='probabilityCol', doc='Column name for predicted class conditional probabilities. Note: Not all models output well-calibrated probability estimates! These probabilities should be treated as confidences, not precise probabilities'): 'probability', Param(parent='RandomForestClassifier_a751991dffc0', name='rawPredictionCol', doc='raw prediction (a.k.a. confidence) column name'): 'rawPrediction', Param(parent='RandomForestClassifier_a751991dffc0', name='seed', doc='random seed'): 7562817919441278039, Param(parent='RandomForestClassifier_a751991dffc0', name='subsamplingRate', doc='Fraction of the training data used for learning each decision tree, in range (0, 1].'): 1.0}\n",
            "CPU times: user 9.81 s, sys: 2.67 s, total: 12.5 s\n",
            "Wall time: 1h 24min 4s\n"
          ],
          "name": "stdout"
        }
      ]
    },
    {
      "cell_type": "markdown",
      "metadata": {
        "id": "wk85-Y-YgzvV",
        "colab_type": "text"
      },
      "source": [
        "Results of hyperparameter tuning using 3-fold cross validation are as follows.\n",
        "\n",
        "    * Best 'numTrees': 150\n",
        "    * Best 'maxDepth': 30\n",
        "\n",
        "For Random Forest classifier, we tested one pair with 6 values - [10,20,50,70,100,150] for the parameter 'numTrees'. MaxDepth was tested with [1,5,10,20,30]. The model with best accuracy had depth 30 and numTrees 150. We achieved a 2% increase in accuracy. \n",
        "\n",
        "Therefore, Random forest could not outperform Logistic Regression in terms of accuracy, but the results from this model had more consistency due to lower standard deviation."
      ]
    },
    {
      "cell_type": "code",
      "metadata": {
        "cellView": "both",
        "colab_type": "code",
        "id": "odfM-_GxWbCy",
        "outputId": "38a13bf1-2603-4103-90c4-611d56b78cac",
        "colab": {
          "base_uri": "https://localhost:8080/",
          "height": 37
        }
      },
      "source": [
        "%%html\n",
        "<marquee style='width: 50%; color: blue;'><b>Thank you!</b></marquee>"
      ],
      "execution_count": 0,
      "outputs": [
        {
          "output_type": "display_data",
          "data": {
            "text/html": [
              "<marquee style='width: 50%; color: blue;'><b>Thank you!</b></marquee>"
            ],
            "text/plain": [
              "<IPython.core.display.HTML object>"
            ]
          },
          "metadata": {
            "tags": []
          }
        }
      ]
    },
    {
      "cell_type": "markdown",
      "metadata": {
        "id": "teQWTTydHhMY",
        "colab_type": "text"
      },
      "source": [
        "***References:***\n",
        "* https://spark.apache.org/docs/2.1.0/ml-guide.html\n",
        "* https://stackoverflow.com/questions/30244910/how-to-pivot-spark-dataframe\n",
        "* https://stackoverflow.com/questions/39633614/calculate-quantile-on-grouped-data-in-spark-dataframe\n",
        "* https://stackoverflow.com/questions/40508489/spark-merge-2-dataframes-by-adding-row-index-number-on-both-dataframes\n",
        "* https://medium.com/@shivamrawat_756/how-to-prevent-google-colab-from-disconnecting-717b88a128c0"
      ]
    }
  ]
}